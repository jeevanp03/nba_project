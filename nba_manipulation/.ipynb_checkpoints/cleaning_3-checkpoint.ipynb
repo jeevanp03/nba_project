{
 "cells": [
  {
   "cell_type": "code",
   "execution_count": 1,
   "id": "43dd2996",
   "metadata": {},
   "outputs": [],
   "source": [
    "import mysql.connector as connection\n",
    "import pandas as pd\n",
    "import numpy as np\n",
    "try:\n",
    "    mydb = connection.connect(host=\"localhost\", database = 'nba_stats',user=\"root\", passwd=\"jeevan2003\",use_pure=True)\n",
    "    query = \"Select * from nba_clean;\"\n",
    "    nba_df = pd.read_sql(query,mydb)\n",
    "    mydb.close() #close the connection\n",
    "except Exception as e:\n",
    "    mydb.close()\n",
    "    print(str(e))"
   ]
  },
  {
   "cell_type": "code",
   "execution_count": 2,
   "id": "2c12a6e3",
   "metadata": {},
   "outputs": [
    {
     "name": "stdout",
     "output_type": "stream",
     "text": [
      "      PLAYER_ID      PLAYER_NAME NICKNAME       TEAM_ID TEAM_ABBREVIATION  \\\n",
      "0        203932     Aaron Gordon    Aaron  1.610613e+09               ORL   \n",
      "1        203932     Aaron Gordon    Aaron  1.610613e+09               ORL   \n",
      "2        203932     Aaron Gordon    Aaron  1.610613e+09               ORL   \n",
      "3        203932     Aaron Gordon    Aaron  1.610613e+09               ORL   \n",
      "4        203932     Aaron Gordon    Aaron  1.610613e+09               ORL   \n",
      "...         ...              ...      ...           ...               ...   \n",
      "2797    1630533  Ziaire Williams   Ziaire  1.610613e+09               MEM   \n",
      "2798    1629627  Zion Williamson     Zion  1.610613e+09               NOP   \n",
      "2799    1629627  Zion Williamson     Zion  1.610613e+09               NOP   \n",
      "2800    1629597   Zylan Cheatham    Zylan  1.610613e+09               NOP   \n",
      "2801    1629597   Zylan Cheatham    Zylan  1.610613e+09               UTA   \n",
      "\n",
      "       AGE    GP    GM     W     L  ...  PF_RANK  PFD_RANK  PTS_RANK  \\\n",
      "0     19.0  47.0  35.0  14.0  33.0  ...    207.0     301.0     320.0   \n",
      "1     20.0  78.0   4.0  32.0  46.0  ...    349.0     132.0     142.0   \n",
      "2     21.0  80.0   2.0  29.0  51.0  ...    412.0      84.0      74.0   \n",
      "3     22.0  58.0  24.0  19.0  39.0  ...    319.0      67.0      66.0   \n",
      "4     23.0  78.0   4.0  40.0  38.0  ...    439.0      39.0      52.0   \n",
      "...    ...   ...   ...   ...   ...  ...      ...       ...       ...   \n",
      "2797  20.0  62.0  20.0  41.0  21.0  ...    415.0     305.0     226.0   \n",
      "2798  19.0  24.0  58.0  11.0  13.0  ...    174.0     107.0     181.0   \n",
      "2799  20.0  61.0  21.0  29.0  32.0  ...    457.0       6.0      10.0   \n",
      "2800  24.0   4.0  78.0   2.0   2.0  ...     78.0     513.0     486.0   \n",
      "2801  26.0   1.0  81.0   0.0   1.0  ...      1.0     564.0     582.0   \n",
      "\n",
      "      PLUS_MINUS_RANK  NBA_FANTASY_PTS_RANK  DD2_RANK  TD3_RANK  CFID  \\\n",
      "0               434.0                 317.0     193.0      21.0   5.0   \n",
      "1               358.0                 101.0      54.0      25.0   5.0   \n",
      "2               436.0                  78.0      80.0      24.0   5.0   \n",
      "3               439.0                  72.0      30.0      32.0   5.0   \n",
      "4                91.0                  43.0      34.0      38.0   5.0   \n",
      "...               ...                   ...       ...       ...   ...   \n",
      "2797             95.0                 271.0     268.0      40.0   5.0   \n",
      "2798            114.0                 250.0     142.0      29.0   5.0   \n",
      "2799            107.0                  16.0      33.0      29.0   5.0   \n",
      "2800            324.0                 491.0     239.0      29.0   5.0   \n",
      "2801            332.0                 596.0     268.0      40.0   5.0   \n",
      "\n",
      "                CFPARAMS  count  \n",
      "0      203932,1610612753      8  \n",
      "1      203932,1610612753      8  \n",
      "2      203932,1610612753      8  \n",
      "3      203932,1610612753      8  \n",
      "4      203932,1610612753      8  \n",
      "...                  ...    ...  \n",
      "2797  1630533,1610612763      1  \n",
      "2798  1629627,1610612740      2  \n",
      "2799  1629627,1610612740      2  \n",
      "2800  1629597,1610612740      2  \n",
      "2801  1629597,1610612762      2  \n",
      "\n",
      "[2802 rows x 68 columns]\n"
     ]
    }
   ],
   "source": [
    "print(nba_df)"
   ]
  },
  {
   "cell_type": "code",
   "execution_count": 3,
   "id": "d8e07f05",
   "metadata": {},
   "outputs": [],
   "source": [
    "espn_scoring = {\"FGM_ESPN\": [\"2\"],\"FGA_ESPN\": [\"-1\"],\"FTM_ESPN\": [\"1\"],\"FTA_ESPN\": [\"-1\"],\"FG3M_ESPN\": [\"-1\"],\"REB_ESPN\": [\"1\"],\"AST_ESPN\": [\"2\"],\"STL_ESPN\": [\"4\"],\"BLK_ESPN\": [\"4\"],\"TOV_ESPN\": [\"-2\"],\"PTS_ESPN\": [\"1\"]}"
   ]
  },
  {
   "cell_type": "code",
   "execution_count": 4,
   "id": "8f427463",
   "metadata": {},
   "outputs": [],
   "source": [
    "yahoo_scoring = {\"PTS_YAHOO\": [\"1\"],\"REB_YAHOO\": [\"1.2\"],\"AST_YAHOO\": [\"1.5\"],\"STL_YAHOO\": [\"3\"],\"BLK_YAHOO\": [\"3\"],\"TOV_YAHOO\": [\"-1\"]}"
   ]
  },
  {
   "cell_type": "code",
   "execution_count": 5,
   "id": "1eaa0d51",
   "metadata": {},
   "outputs": [
    {
     "name": "stderr",
     "output_type": "stream",
     "text": [
      "/var/folders/8z/yxhm1c6x4bvg_s6d6w0cl6_80000gn/T/ipykernel_67745/1005924438.py:1: FutureWarning: In a future version of pandas all arguments of DataFrame.drop except for the argument 'labels' will be keyword-only\n",
      "  nba_df = nba_df.drop('CFPARAMS', 1)\n",
      "/var/folders/8z/yxhm1c6x4bvg_s6d6w0cl6_80000gn/T/ipykernel_67745/1005924438.py:2: FutureWarning: In a future version of pandas all arguments of DataFrame.drop except for the argument 'labels' will be keyword-only\n",
      "  nba_df = nba_df.drop('CFID', 1)\n"
     ]
    }
   ],
   "source": [
    "nba_df = nba_df.drop('CFPARAMS', 1)\n",
    "nba_df = nba_df.drop('CFID', 1)"
   ]
  },
  {
   "cell_type": "code",
   "execution_count": 6,
   "id": "03f5d795",
   "metadata": {},
   "outputs": [
    {
     "name": "stdout",
     "output_type": "stream",
     "text": [
      "      PLAYER_ID      PLAYER_NAME NICKNAME       TEAM_ID TEAM_ABBREVIATION  \\\n",
      "0        203932     Aaron Gordon    Aaron  1.610613e+09               ORL   \n",
      "1        203932     Aaron Gordon    Aaron  1.610613e+09               ORL   \n",
      "2        203932     Aaron Gordon    Aaron  1.610613e+09               ORL   \n",
      "3        203932     Aaron Gordon    Aaron  1.610613e+09               ORL   \n",
      "4        203932     Aaron Gordon    Aaron  1.610613e+09               ORL   \n",
      "...         ...              ...      ...           ...               ...   \n",
      "2797    1630533  Ziaire Williams   Ziaire  1.610613e+09               MEM   \n",
      "2798    1629627  Zion Williamson     Zion  1.610613e+09               NOP   \n",
      "2799    1629627  Zion Williamson     Zion  1.610613e+09               NOP   \n",
      "2800    1629597   Zylan Cheatham    Zylan  1.610613e+09               NOP   \n",
      "2801    1629597   Zylan Cheatham    Zylan  1.610613e+09               UTA   \n",
      "\n",
      "       AGE    GP    GM     W     L  ...  BLK_RANK  BLKA_RANK  PF_RANK  \\\n",
      "0     19.0  47.0  35.0  14.0  33.0  ...     154.0      202.0    207.0   \n",
      "1     20.0  78.0   4.0  32.0  46.0  ...      57.0      342.0    349.0   \n",
      "2     21.0  80.0   2.0  29.0  51.0  ...      83.0      405.0    412.0   \n",
      "3     22.0  58.0  24.0  19.0  39.0  ...      76.0      438.0    319.0   \n",
      "4     23.0  78.0   4.0  40.0  38.0  ...      50.0      471.0    439.0   \n",
      "...    ...   ...   ...   ...   ...  ...       ...        ...      ...   \n",
      "2797  20.0  62.0  20.0  41.0  21.0  ...     291.0      329.0    415.0   \n",
      "2798  19.0  24.0  58.0  11.0  13.0  ...     289.0      441.0    174.0   \n",
      "2799  20.0  61.0  21.0  29.0  32.0  ...      80.0      540.0    457.0   \n",
      "2800  24.0   4.0  78.0   2.0   2.0  ...     444.0        1.0     78.0   \n",
      "2801  26.0   1.0  81.0   0.0   1.0  ...     520.0        1.0      1.0   \n",
      "\n",
      "      PFD_RANK  PTS_RANK  PLUS_MINUS_RANK  NBA_FANTASY_PTS_RANK  DD2_RANK  \\\n",
      "0        301.0     320.0            434.0                 317.0     193.0   \n",
      "1        132.0     142.0            358.0                 101.0      54.0   \n",
      "2         84.0      74.0            436.0                  78.0      80.0   \n",
      "3         67.0      66.0            439.0                  72.0      30.0   \n",
      "4         39.0      52.0             91.0                  43.0      34.0   \n",
      "...        ...       ...              ...                   ...       ...   \n",
      "2797     305.0     226.0             95.0                 271.0     268.0   \n",
      "2798     107.0     181.0            114.0                 250.0     142.0   \n",
      "2799       6.0      10.0            107.0                  16.0      33.0   \n",
      "2800     513.0     486.0            324.0                 491.0     239.0   \n",
      "2801     564.0     582.0            332.0                 596.0     268.0   \n",
      "\n",
      "      TD3_RANK  count  \n",
      "0         21.0      8  \n",
      "1         25.0      8  \n",
      "2         24.0      8  \n",
      "3         32.0      8  \n",
      "4         38.0      8  \n",
      "...        ...    ...  \n",
      "2797      40.0      1  \n",
      "2798      29.0      2  \n",
      "2799      29.0      2  \n",
      "2800      29.0      2  \n",
      "2801      40.0      2  \n",
      "\n",
      "[2802 rows x 66 columns]\n"
     ]
    }
   ],
   "source": [
    "print(nba_df)"
   ]
  },
  {
   "cell_type": "code",
   "execution_count": 7,
   "id": "e85a75cd",
   "metadata": {},
   "outputs": [],
   "source": [
    "all_names = nba_df[\"PLAYER_NAME\"].tolist()\n",
    "names = pd.unique(nba_df[['PLAYER_NAME']].values.ravel())"
   ]
  },
  {
   "cell_type": "code",
   "execution_count": 8,
   "id": "5b9c8710",
   "metadata": {},
   "outputs": [
    {
     "name": "stdout",
     "output_type": "stream",
     "text": [
      "  FGM_ESPN FGA_ESPN FTM_ESPN FTA_ESPN 3PM_ESPN REB_ESPN AST_ESPN STL_ESPN  \\\n",
      "0        2       -1        1       -1       -1        1        2        4   \n",
      "\n",
      "  BLK_ESPN TOV_ESPN PTS_ESPN  \n",
      "0        4       -2        1  \n"
     ]
    }
   ],
   "source": [
    "espn_df = pd.DataFrame.from_dict(espn_scoring)  \n",
    "print(espn_df)"
   ]
  },
  {
   "cell_type": "code",
   "execution_count": 9,
   "id": "39e48d09",
   "metadata": {},
   "outputs": [
    {
     "name": "stdout",
     "output_type": "stream",
     "text": [
      "  FGM_ESPN FGA_ESPN FTM_ESPN FTA_ESPN 3PM_ESPN REB_ESPN AST_ESPN STL_ESPN  \\\n",
      "0        2       -1        1       -1       -1        1        2        4   \n",
      "1        2       -1        1       -1       -1        1        2        4   \n",
      "2        2       -1        1       -1       -1        1        2        4   \n",
      "3        2       -1        1       -1       -1        1        2        4   \n",
      "4        2       -1        1       -1       -1        1        2        4   \n",
      "\n",
      "  BLK_ESPN TOV_ESPN PTS_ESPN  \n",
      "0        4       -2        1  \n",
      "1        4       -2        1  \n",
      "2        4       -2        1  \n",
      "3        4       -2        1  \n",
      "4        4       -2        1  \n",
      "    FGM_ESPN FGA_ESPN FTM_ESPN FTA_ESPN 3PM_ESPN REB_ESPN AST_ESPN STL_ESPN  \\\n",
      "565        2       -1        1       -1       -1        1        2        4   \n",
      "566        2       -1        1       -1       -1        1        2        4   \n",
      "567        2       -1        1       -1       -1        1        2        4   \n",
      "568        2       -1        1       -1       -1        1        2        4   \n",
      "569        2       -1        1       -1       -1        1        2        4   \n",
      "\n",
      "    BLK_ESPN TOV_ESPN PTS_ESPN  \n",
      "565        4       -2        1  \n",
      "566        4       -2        1  \n",
      "567        4       -2        1  \n",
      "568        4       -2        1  \n",
      "569        4       -2        1  \n"
     ]
    }
   ],
   "source": [
    "df_repeated = pd.concat([espn_df]*570, ignore_index=True)\n",
    "print(df_repeated.head())\n",
    "print(df_repeated.tail())"
   ]
  },
  {
   "cell_type": "code",
   "execution_count": 10,
   "id": "5de18866",
   "metadata": {},
   "outputs": [],
   "source": [
    "df_repeated[\"PLAYER_NAME\"] = names"
   ]
  },
  {
   "cell_type": "code",
   "execution_count": 11,
   "id": "01f6f7bc",
   "metadata": {},
   "outputs": [
    {
     "name": "stdout",
     "output_type": "stream",
     "text": [
      "    FGM_ESPN FGA_ESPN FTM_ESPN FTA_ESPN 3PM_ESPN REB_ESPN AST_ESPN STL_ESPN  \\\n",
      "0          2       -1        1       -1       -1        1        2        4   \n",
      "1          2       -1        1       -1       -1        1        2        4   \n",
      "2          2       -1        1       -1       -1        1        2        4   \n",
      "3          2       -1        1       -1       -1        1        2        4   \n",
      "4          2       -1        1       -1       -1        1        2        4   \n",
      "..       ...      ...      ...      ...      ...      ...      ...      ...   \n",
      "565        2       -1        1       -1       -1        1        2        4   \n",
      "566        2       -1        1       -1       -1        1        2        4   \n",
      "567        2       -1        1       -1       -1        1        2        4   \n",
      "568        2       -1        1       -1       -1        1        2        4   \n",
      "569        2       -1        1       -1       -1        1        2        4   \n",
      "\n",
      "    BLK_ESPN TOV_ESPN PTS_ESPN      PLAYER_NAME  \n",
      "0          4       -2        1     Aaron Gordon  \n",
      "1          4       -2        1      Aaron Henry  \n",
      "2          4       -2        1    Aaron Holiday  \n",
      "3          4       -2        1    Aaron Nesmith  \n",
      "4          4       -2        1    Aaron Wiggins  \n",
      "..       ...      ...      ...              ...  \n",
      "565        4       -2        1      Zach LaVine  \n",
      "566        4       -2        1       Zeke Nnaji  \n",
      "567        4       -2        1  Ziaire Williams  \n",
      "568        4       -2        1  Zion Williamson  \n",
      "569        4       -2        1   Zylan Cheatham  \n",
      "\n",
      "[570 rows x 12 columns]\n"
     ]
    }
   ],
   "source": [
    "print(df_repeated)"
   ]
  },
  {
   "cell_type": "code",
   "execution_count": 12,
   "id": "7ef4d03f",
   "metadata": {},
   "outputs": [],
   "source": [
    "columns_list = [\n",
    "                \"PLAYER_NAME\",\n",
    "                \"FGM_ESPN\",\n",
    "                \"FGA_ESPN\",\n",
    "                \"FTM_ESPN\",\n",
    "                \"FG3M_ESPN\",\n",
    "                \"REB_ESPN\",\n",
    "                \"AST_ESPN\",\n",
    "                \"STL_ESPN\",\n",
    "                \"BLK_ESPN\",\n",
    "                \"TOV_ESPN\",\n",
    "                \"PTS_ESPN\"\n",
    "               ]"
   ]
  },
  {
   "cell_type": "code",
   "execution_count": 13,
   "id": "dda32e05",
   "metadata": {},
   "outputs": [],
   "source": [
    "df_repeated = df_repeated.reindex(columns = columns_list)"
   ]
  },
  {
   "cell_type": "code",
   "execution_count": 14,
   "id": "2009ea32",
   "metadata": {},
   "outputs": [
    {
     "name": "stdout",
     "output_type": "stream",
     "text": [
      "         PLAYER_NAME FGM_ESPN FGA_ESPN FTM_ESPN 3PM_ESPN REB_ESPN AST_ESPN  \\\n",
      "0       Aaron Gordon        2       -1        1       -1        1        2   \n",
      "1        Aaron Henry        2       -1        1       -1        1        2   \n",
      "2      Aaron Holiday        2       -1        1       -1        1        2   \n",
      "3      Aaron Nesmith        2       -1        1       -1        1        2   \n",
      "4      Aaron Wiggins        2       -1        1       -1        1        2   \n",
      "..               ...      ...      ...      ...      ...      ...      ...   \n",
      "565      Zach LaVine        2       -1        1       -1        1        2   \n",
      "566       Zeke Nnaji        2       -1        1       -1        1        2   \n",
      "567  Ziaire Williams        2       -1        1       -1        1        2   \n",
      "568  Zion Williamson        2       -1        1       -1        1        2   \n",
      "569   Zylan Cheatham        2       -1        1       -1        1        2   \n",
      "\n",
      "    STL_ESPN BLK_ESPN TOV_ESPN PTS_ESPN  \n",
      "0          4        4       -2        1  \n",
      "1          4        4       -2        1  \n",
      "2          4        4       -2        1  \n",
      "3          4        4       -2        1  \n",
      "4          4        4       -2        1  \n",
      "..       ...      ...      ...      ...  \n",
      "565        4        4       -2        1  \n",
      "566        4        4       -2        1  \n",
      "567        4        4       -2        1  \n",
      "568        4        4       -2        1  \n",
      "569        4        4       -2        1  \n",
      "\n",
      "[570 rows x 11 columns]\n"
     ]
    }
   ],
   "source": [
    "print(df_repeated)"
   ]
  },
  {
   "cell_type": "code",
   "execution_count": 15,
   "id": "374be920",
   "metadata": {},
   "outputs": [],
   "source": [
    "nba_df = pd.merge(nba_df, df_repeated, how = 'right', on = 'PLAYER_NAME')"
   ]
  },
  {
   "cell_type": "code",
   "execution_count": 16,
   "id": "67c1c088",
   "metadata": {},
   "outputs": [
    {
     "name": "stdout",
     "output_type": "stream",
     "text": [
      "      PLAYER_ID      PLAYER_NAME NICKNAME       TEAM_ID TEAM_ABBREVIATION  \\\n",
      "0        203932     Aaron Gordon    Aaron  1.610613e+09               ORL   \n",
      "1        203932     Aaron Gordon    Aaron  1.610613e+09               ORL   \n",
      "2        203932     Aaron Gordon    Aaron  1.610613e+09               ORL   \n",
      "3        203932     Aaron Gordon    Aaron  1.610613e+09               ORL   \n",
      "4        203932     Aaron Gordon    Aaron  1.610613e+09               ORL   \n",
      "...         ...              ...      ...           ...               ...   \n",
      "2797    1630533  Ziaire Williams   Ziaire  1.610613e+09               MEM   \n",
      "2798    1629627  Zion Williamson     Zion  1.610613e+09               NOP   \n",
      "2799    1629627  Zion Williamson     Zion  1.610613e+09               NOP   \n",
      "2800    1629597   Zylan Cheatham    Zylan  1.610613e+09               NOP   \n",
      "2801    1629597   Zylan Cheatham    Zylan  1.610613e+09               UTA   \n",
      "\n",
      "       AGE    GP    GM     W     L  ...  FGM_ESPN  FGA_ESPN  FTM_ESPN  \\\n",
      "0     19.0  47.0  35.0  14.0  33.0  ...         2        -1         1   \n",
      "1     20.0  78.0   4.0  32.0  46.0  ...         2        -1         1   \n",
      "2     21.0  80.0   2.0  29.0  51.0  ...         2        -1         1   \n",
      "3     22.0  58.0  24.0  19.0  39.0  ...         2        -1         1   \n",
      "4     23.0  78.0   4.0  40.0  38.0  ...         2        -1         1   \n",
      "...    ...   ...   ...   ...   ...  ...       ...       ...       ...   \n",
      "2797  20.0  62.0  20.0  41.0  21.0  ...         2        -1         1   \n",
      "2798  19.0  24.0  58.0  11.0  13.0  ...         2        -1         1   \n",
      "2799  20.0  61.0  21.0  29.0  32.0  ...         2        -1         1   \n",
      "2800  24.0   4.0  78.0   2.0   2.0  ...         2        -1         1   \n",
      "2801  26.0   1.0  81.0   0.0   1.0  ...         2        -1         1   \n",
      "\n",
      "      3PM_ESPN  REB_ESPN  AST_ESPN  STL_ESPN  BLK_ESPN  TOV_ESPN  PTS_ESPN  \n",
      "0           -1         1         2         4         4        -2         1  \n",
      "1           -1         1         2         4         4        -2         1  \n",
      "2           -1         1         2         4         4        -2         1  \n",
      "3           -1         1         2         4         4        -2         1  \n",
      "4           -1         1         2         4         4        -2         1  \n",
      "...        ...       ...       ...       ...       ...       ...       ...  \n",
      "2797        -1         1         2         4         4        -2         1  \n",
      "2798        -1         1         2         4         4        -2         1  \n",
      "2799        -1         1         2         4         4        -2         1  \n",
      "2800        -1         1         2         4         4        -2         1  \n",
      "2801        -1         1         2         4         4        -2         1  \n",
      "\n",
      "[2802 rows x 76 columns]\n"
     ]
    }
   ],
   "source": [
    "print(nba_df)"
   ]
  },
  {
   "cell_type": "code",
   "execution_count": null,
   "id": "f2c855f9",
   "metadata": {},
   "outputs": [],
   "source": []
  }
 ],
 "metadata": {
  "kernelspec": {
   "display_name": "Python 3 (ipykernel)",
   "language": "python",
   "name": "python3"
  },
  "language_info": {
   "codemirror_mode": {
    "name": "ipython",
    "version": 3
   },
   "file_extension": ".py",
   "mimetype": "text/x-python",
   "name": "python",
   "nbconvert_exporter": "python",
   "pygments_lexer": "ipython3",
   "version": "3.9.7"
  }
 },
 "nbformat": 4,
 "nbformat_minor": 5
}
