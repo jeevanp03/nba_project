{
 "cells": [
  {
   "cell_type": "code",
   "execution_count": 1,
   "id": "810894d7",
   "metadata": {},
   "outputs": [],
   "source": [
    "import mysql.connector as connection\n",
    "import pandas as pd\n",
    "import numpy as np\n",
    "import os\n",
    "import urllib\n",
    "%matplotlib inline\n",
    "import matplotlib.pyplot as plt\n",
    "try:\n",
    "    mydb = connection.connect(host=os.environ.get(\"DB_HOST\"), database = os.environ.get(\"DB_NAME\"),user=os.environ.get(\"DB_USER\"), passwd=os.environ.get(\"DB_PASSWORD\"),use_pure=True)\n",
    "    query = \"Select * from nba_clean;\"\n",
    "    nba_df = pd.read_sql(query,mydb)\n",
    "    mydb.close() #close the connection\n",
    "except Exception as e:\n",
    "    mydb.close()\n",
    "    print(str(e))"
   ]
  },
  {
   "cell_type": "code",
   "execution_count": 2,
   "id": "09025cd8",
   "metadata": {},
   "outputs": [
    {
     "name": "stdout",
     "output_type": "stream",
     "text": [
      "     SEASON_ID  PLAYER_ID      PLAYER_NAME       TEAM_ID TEAM_ABBREVIATION  \\\n",
      "0      2014-15     203932     Aaron Gordon  1.610613e+09               ORL   \n",
      "1      2015-16     203932     Aaron Gordon  1.610613e+09               ORL   \n",
      "2      2016-17     203932     Aaron Gordon  1.610613e+09               ORL   \n",
      "3      2017-18     203932     Aaron Gordon  1.610613e+09               ORL   \n",
      "4      2018-19     203932     Aaron Gordon  1.610613e+09               ORL   \n",
      "...        ...        ...              ...           ...               ...   \n",
      "2797   2021-22    1630533  Ziaire Williams  1.610613e+09               MEM   \n",
      "2798   2019-20    1629627  Zion Williamson  1.610613e+09               NOP   \n",
      "2799   2020-21    1629627  Zion Williamson  1.610613e+09               NOP   \n",
      "2800   2019-20    1629597   Zylan Cheatham  1.610613e+09               NOP   \n",
      "2801   2021-22    1629597   Zylan Cheatham  1.610613e+09               UTA   \n",
      "\n",
      "       AGE    GP    GM     W     L  ...  STL_ESPN  BLK_ESPN  TOV_ESPN  \\\n",
      "0     19.0  47.0  35.0  14.0  33.0  ...      84.0      88.0     -76.0   \n",
      "1     20.0  78.0   4.0  32.0  46.0  ...     236.0     220.0    -132.0   \n",
      "2     21.0  80.0   2.0  29.0  51.0  ...     260.0     160.0    -178.0   \n",
      "3     22.0  58.0  24.0  19.0  39.0  ...     236.0     180.0    -214.0   \n",
      "4     23.0  78.0   4.0  40.0  38.0  ...     228.0     224.0    -324.0   \n",
      "...    ...   ...   ...   ...   ...  ...       ...       ...       ...   \n",
      "2797  20.0  62.0  20.0  41.0  21.0  ...     140.0      48.0     -82.0   \n",
      "2798  19.0  24.0  58.0  11.0  13.0  ...      64.0      36.0    -118.0   \n",
      "2799  20.0  61.0  21.0  29.0  32.0  ...     228.0     156.0    -334.0   \n",
      "2800  24.0   4.0  78.0   2.0   2.0  ...       4.0       4.0      -8.0   \n",
      "2801  26.0   1.0  81.0   0.0   1.0  ...       0.0       0.0      -0.0   \n",
      "\n",
      "      PF_ESPN  DD2_ESPN  TD3_ESPN  PTS_ESPN  W_ESPN  NET_ESPN  AVG_NET_ESPN  \n",
      "0         0.0       0.0       0.0     243.0     0.0     548.0      6.682927  \n",
      "1         0.0       0.0       0.0     719.0     0.0    1753.0     21.378049  \n",
      "2         0.0       0.0       0.0    1019.0     0.0    1903.0     23.207317  \n",
      "3         0.0       0.0       0.0    1022.0     0.0    1885.0     22.987805  \n",
      "4         0.0       0.0       0.0    1246.0     0.0    2473.0     30.158537  \n",
      "...       ...       ...       ...       ...     ...       ...           ...  \n",
      "2797      0.0       0.0       0.0     501.0     0.0     888.0     10.829268  \n",
      "2798      0.0       0.0       0.0     540.0     0.0     774.0      9.439024  \n",
      "2799      0.0       0.0       0.0    1647.0     0.0    2671.0     32.573171  \n",
      "2800      0.0       0.0       0.0      12.0     0.0      30.0      0.365854  \n",
      "2801      0.0       0.0       0.0       0.0     0.0      -3.0     -0.036585  \n",
      "\n",
      "[2802 rows x 86 columns]\n"
     ]
    }
   ],
   "source": [
    "print(nba_df)"
   ]
  },
  {
   "cell_type": "code",
   "execution_count": 3,
   "id": "024e8eb5",
   "metadata": {},
   "outputs": [
    {
     "name": "stdout",
     "output_type": "stream",
     "text": [
      "0        44.0\n",
      "1       129.0\n",
      "2       156.0\n",
      "3       157.0\n",
      "4       185.0\n",
      "        ...  \n",
      "2797     43.0\n",
      "2798    114.0\n",
      "2799    369.0\n",
      "2800      0.0\n",
      "2801      0.0\n",
      "Name: FTM, Length: 2802, dtype: float64\n",
      "0        61.0\n",
      "1       193.0\n",
      "2       217.0\n",
      "3       225.0\n",
      "4       253.0\n",
      "        ...  \n",
      "2797     55.0\n",
      "2798    178.0\n",
      "2799    529.0\n",
      "2800      0.0\n",
      "2801      0.0\n",
      "Name: FTA, Length: 2802, dtype: float64\n",
      "0        796.925000\n",
      "1       1863.120000\n",
      "2       2297.965000\n",
      "3       1909.078333\n",
      "4       2632.533333\n",
      "           ...     \n",
      "2797    1346.466667\n",
      "2798     668.141667\n",
      "2799    2025.890000\n",
      "2800      51.043333\n",
      "2801       5.183333\n",
      "Name: MIN, Length: 2802, dtype: float64\n"
     ]
    }
   ],
   "source": [
    "print(nba_df[\"FTM\"])\n",
    "print(nba_df[\"FTA\"])\n",
    "print(nba_df[\"MIN\"])"
   ]
  },
  {
   "cell_type": "code",
   "execution_count": 4,
   "id": "02929cce",
   "metadata": {},
   "outputs": [
    {
     "name": "stdout",
     "output_type": "stream",
     "text": [
      "0       11.483872\n",
      "1       17.891172\n",
      "2       15.949140\n",
      "3       18.747818\n",
      "4       17.690298\n",
      "          ...    \n",
      "2797    11.866849\n",
      "2798    28.958366\n",
      "2799    32.062395\n",
      "2800     8.100803\n",
      "2801   -22.682315\n",
      "Name: PER, Length: 2802, dtype: float64\n"
     ]
    }
   ],
   "source": [
    "nba_df['PER'] = (nba_df['FGM'] * 85.910 + nba_df['STL'] * 53.897 + nba_df['FG3M'] * 51.757 + nba_df['FTM'] * 46.845 + nba_df['BLK'] * 39.190 + nba_df['OREB'] * 39.190 + nba_df['AST'] * 34.677 + nba_df['DREB'] * 14.707 - nba_df['PF'] * 17.174 - (nba_df['FTA'] - nba_df['FTM']) * 20.091 - (nba_df[\"FGA\"] - nba_df[\"FGM\"]) * 39.190 - nba_df['TOV'] * 53.897)* (1 / nba_df['MIN']) \n",
    "print(nba_df['PER'])"
   ]
  },
  {
   "cell_type": "code",
   "execution_count": 5,
   "id": "ad3a5672",
   "metadata": {},
   "outputs": [
    {
     "name": "stdout",
     "output_type": "stream",
     "text": [
      "SEASON_ID\n",
      "PLAYER_ID\n",
      "PLAYER_NAME\n",
      "TEAM_ID\n",
      "TEAM_ABBREVIATION\n",
      "AGE\n",
      "GP\n",
      "GM\n",
      "W\n",
      "L\n",
      "W_PCT\n",
      "MIN\n",
      "FGM\n",
      "FGA\n",
      "FG_PCT\n",
      "FG3M\n",
      "FG3A\n",
      "FG3_PCT\n",
      "FTM\n",
      "FTA\n",
      "FT_PCT\n",
      "OREB\n",
      "DREB\n",
      "REB\n",
      "AST\n",
      "TOV\n",
      "STL\n",
      "BLK\n",
      "BLKA\n",
      "PF\n",
      "PFD\n",
      "PTS\n",
      "PLUS_MINUS\n",
      "NBA_FANTASY_PTS\n",
      "DD2\n",
      "TD3\n",
      "GP_RANK\n",
      "W_RANK\n",
      "L_RANK\n",
      "W_PCT_RANK\n",
      "MIN_RANK\n",
      "FGM_RANK\n",
      "FGA_RANK\n",
      "FG_PCT_RANK\n",
      "FG3M_RANK\n",
      "FG3A_RANK\n",
      "FG3_PCT_RANK\n",
      "FTM_RANK\n",
      "FTA_RANK\n",
      "FT_PCT_RANK\n",
      "OREB_RANK\n",
      "DREB_RANK\n",
      "REB_RANK\n",
      "AST_RANK\n",
      "TOV_RANK\n",
      "STL_RANK\n",
      "BLK_RANK\n",
      "BLKA_RANK\n",
      "PF_RANK\n",
      "PFD_RANK\n",
      "PTS_RANK\n",
      "PLUS_MINUS_RANK\n",
      "NBA_FANTASY_PTS_PER_SEASON_RANK\n",
      "DD2_RANK\n",
      "TD3_RANK\n",
      "count\n",
      "GP_ESPN\n",
      "FGM_ESPN\n",
      "FGA_ESPN\n",
      "FTM_ESPN\n",
      "FTA_ESPN\n",
      "FG3M_ESPN\n",
      "REB_ESPN\n",
      "OREB_ESPN\n",
      "DREB_ESPN\n",
      "AST_ESPN\n",
      "STL_ESPN\n",
      "BLK_ESPN\n",
      "TOV_ESPN\n",
      "PF_ESPN\n",
      "DD2_ESPN\n",
      "TD3_ESPN\n",
      "PTS_ESPN\n",
      "W_ESPN\n",
      "NET_ESPN\n",
      "AVG_NET_ESPN\n",
      "PER\n"
     ]
    }
   ],
   "source": [
    "for col in nba_df.columns:\n",
    "    print(col)"
   ]
  },
  {
   "cell_type": "code",
   "execution_count": 6,
   "id": "78c04d31",
   "metadata": {},
   "outputs": [
    {
     "name": "stdout",
     "output_type": "stream",
     "text": [
      "['SEASON_ID', 'PLAYER_ID', 'PLAYER_NAME', 'TEAM_ID', 'TEAM_ABBREVIATION', 'AGE', 'GP', 'GM', 'W', 'L', 'W_PCT', 'MIN', 'FGM', 'FGA', 'FG_PCT', 'FG3M', 'FG3A', 'FG3_PCT', 'FTM', 'FTA', 'FT_PCT', 'OREB', 'DREB', 'REB', 'AST', 'TOV', 'STL', 'BLK', 'BLKA', 'PF', 'PFD', 'PTS', 'PLUS_MINUS', 'NBA_FANTASY_PTS', 'DD2', 'TD3', 'GP_RANK', 'W_RANK', 'L_RANK', 'W_PCT_RANK', 'MIN_RANK', 'FGM_RANK', 'FGA_RANK', 'FG_PCT_RANK', 'FG3M_RANK', 'FG3A_RANK', 'FG3_PCT_RANK', 'FTM_RANK', 'FTA_RANK', 'FT_PCT_RANK', 'OREB_RANK', 'DREB_RANK', 'REB_RANK', 'AST_RANK', 'TOV_RANK', 'STL_RANK', 'BLK_RANK', 'BLKA_RANK', 'PF_RANK', 'PFD_RANK', 'PTS_RANK', 'PLUS_MINUS_RANK', 'NBA_FANTASY_PTS_PER_SEASON_RANK', 'DD2_RANK', 'TD3_RANK', 'count', 'GP_ESPN', 'FGM_ESPN', 'FGA_ESPN', 'FTM_ESPN', 'FTA_ESPN', 'FG3M_ESPN', 'REB_ESPN', 'OREB_ESPN', 'DREB_ESPN', 'AST_ESPN', 'STL_ESPN', 'BLK_ESPN', 'TOV_ESPN', 'PF_ESPN', 'DD2_ESPN', 'TD3_ESPN', 'PTS_ESPN', 'W_ESPN', 'NET_ESPN', 'AVG_NET_ESPN', 'PER']\n"
     ]
    }
   ],
   "source": [
    "column_list = list(nba_df)\n",
    "print(column_list)"
   ]
  },
  {
   "cell_type": "code",
   "execution_count": 7,
   "id": "9d3b3649",
   "metadata": {},
   "outputs": [],
   "source": [
    "fantasy_df = nba_df.copy()"
   ]
  },
  {
   "cell_type": "code",
   "execution_count": 8,
   "id": "1de1452c",
   "metadata": {},
   "outputs": [
    {
     "name": "stdout",
     "output_type": "stream",
     "text": [
      "     SEASON_ID  PLAYER_ID      PLAYER_NAME       TEAM_ID TEAM_ABBREVIATION  \\\n",
      "0      2014-15     203932     Aaron Gordon  1.610613e+09               ORL   \n",
      "1      2015-16     203932     Aaron Gordon  1.610613e+09               ORL   \n",
      "2      2016-17     203932     Aaron Gordon  1.610613e+09               ORL   \n",
      "3      2017-18     203932     Aaron Gordon  1.610613e+09               ORL   \n",
      "4      2018-19     203932     Aaron Gordon  1.610613e+09               ORL   \n",
      "...        ...        ...              ...           ...               ...   \n",
      "2797   2021-22    1630533  Ziaire Williams  1.610613e+09               MEM   \n",
      "2798   2019-20    1629627  Zion Williamson  1.610613e+09               NOP   \n",
      "2799   2020-21    1629627  Zion Williamson  1.610613e+09               NOP   \n",
      "2800   2019-20    1629597   Zylan Cheatham  1.610613e+09               NOP   \n",
      "2801   2021-22    1629597   Zylan Cheatham  1.610613e+09               UTA   \n",
      "\n",
      "       AGE    GP    GM     W     L  ...  BLKA_RANK  PF_RANK  PFD_RANK  \\\n",
      "0     19.0  47.0  35.0  14.0  33.0  ...      202.0    207.0     301.0   \n",
      "1     20.0  78.0   4.0  32.0  46.0  ...      342.0    349.0     132.0   \n",
      "2     21.0  80.0   2.0  29.0  51.0  ...      405.0    412.0      84.0   \n",
      "3     22.0  58.0  24.0  19.0  39.0  ...      438.0    319.0      67.0   \n",
      "4     23.0  78.0   4.0  40.0  38.0  ...      471.0    439.0      39.0   \n",
      "...    ...   ...   ...   ...   ...  ...        ...      ...       ...   \n",
      "2797  20.0  62.0  20.0  41.0  21.0  ...      329.0    415.0     305.0   \n",
      "2798  19.0  24.0  58.0  11.0  13.0  ...      441.0    174.0     107.0   \n",
      "2799  20.0  61.0  21.0  29.0  32.0  ...      540.0    457.0       6.0   \n",
      "2800  24.0   4.0  78.0   2.0   2.0  ...        1.0     78.0     513.0   \n",
      "2801  26.0   1.0  81.0   0.0   1.0  ...        1.0      1.0     564.0   \n",
      "\n",
      "      PTS_RANK  PLUS_MINUS_RANK  NBA_FANTASY_PTS_PER_SEASON_RANK  DD2_RANK  \\\n",
      "0        320.0            434.0                            118.0     193.0   \n",
      "1        142.0            358.0                             75.0      54.0   \n",
      "2         74.0            436.0                             69.0      80.0   \n",
      "3         66.0            439.0                             80.0      30.0   \n",
      "4         52.0             91.0                             47.0      34.0   \n",
      "...        ...              ...                              ...       ...   \n",
      "2797     226.0             95.0                            265.0     268.0   \n",
      "2798     181.0            114.0                            242.0     142.0   \n",
      "2799      10.0            107.0                             17.0      33.0   \n",
      "2800     486.0            324.0                            364.0     239.0   \n",
      "2801     582.0            332.0                            536.5     268.0   \n",
      "\n",
      "      TD3_RANK  count        PER  \n",
      "0         21.0      8  11.483872  \n",
      "1         25.0      8  17.891172  \n",
      "2         24.0      8  15.949140  \n",
      "3         32.0      8  18.747818  \n",
      "4         38.0      8  17.690298  \n",
      "...        ...    ...        ...  \n",
      "2797      40.0      1  11.866849  \n",
      "2798      29.0      2  28.958366  \n",
      "2799      29.0      2  32.062395  \n",
      "2800      29.0      2   8.100803  \n",
      "2801      40.0      2 -22.682315  \n",
      "\n",
      "[2802 rows x 67 columns]\n"
     ]
    },
    {
     "name": "stderr",
     "output_type": "stream",
     "text": [
      "/var/folders/8z/yxhm1c6x4bvg_s6d6w0cl6_80000gn/T/ipykernel_65471/2582868917.py:4: FutureWarning: In a future version of pandas all arguments of DataFrame.drop except for the argument 'labels' will be keyword-only\n",
      "  fantasy_df = fantasy_df.drop('GP_ESPN', 1)\n",
      "/var/folders/8z/yxhm1c6x4bvg_s6d6w0cl6_80000gn/T/ipykernel_65471/2582868917.py:5: FutureWarning: In a future version of pandas all arguments of DataFrame.drop except for the argument 'labels' will be keyword-only\n",
      "  fantasy_df = fantasy_df.drop('FGM_ESPN', 1)\n",
      "/var/folders/8z/yxhm1c6x4bvg_s6d6w0cl6_80000gn/T/ipykernel_65471/2582868917.py:6: FutureWarning: In a future version of pandas all arguments of DataFrame.drop except for the argument 'labels' will be keyword-only\n",
      "  fantasy_df = fantasy_df.drop('FGA_ESPN', 1)\n",
      "/var/folders/8z/yxhm1c6x4bvg_s6d6w0cl6_80000gn/T/ipykernel_65471/2582868917.py:7: FutureWarning: In a future version of pandas all arguments of DataFrame.drop except for the argument 'labels' will be keyword-only\n",
      "  fantasy_df = fantasy_df.drop('FTM_ESPN', 1)\n",
      "/var/folders/8z/yxhm1c6x4bvg_s6d6w0cl6_80000gn/T/ipykernel_65471/2582868917.py:8: FutureWarning: In a future version of pandas all arguments of DataFrame.drop except for the argument 'labels' will be keyword-only\n",
      "  fantasy_df = fantasy_df.drop('FTA_ESPN', 1)\n",
      "/var/folders/8z/yxhm1c6x4bvg_s6d6w0cl6_80000gn/T/ipykernel_65471/2582868917.py:9: FutureWarning: In a future version of pandas all arguments of DataFrame.drop except for the argument 'labels' will be keyword-only\n",
      "  fantasy_df = fantasy_df.drop('FG3M_ESPN', 1)\n",
      "/var/folders/8z/yxhm1c6x4bvg_s6d6w0cl6_80000gn/T/ipykernel_65471/2582868917.py:10: FutureWarning: In a future version of pandas all arguments of DataFrame.drop except for the argument 'labels' will be keyword-only\n",
      "  fantasy_df = fantasy_df.drop('REB_ESPN', 1)\n",
      "/var/folders/8z/yxhm1c6x4bvg_s6d6w0cl6_80000gn/T/ipykernel_65471/2582868917.py:11: FutureWarning: In a future version of pandas all arguments of DataFrame.drop except for the argument 'labels' will be keyword-only\n",
      "  fantasy_df = fantasy_df.drop('OREB_ESPN', 1)\n",
      "/var/folders/8z/yxhm1c6x4bvg_s6d6w0cl6_80000gn/T/ipykernel_65471/2582868917.py:12: FutureWarning: In a future version of pandas all arguments of DataFrame.drop except for the argument 'labels' will be keyword-only\n",
      "  fantasy_df = fantasy_df.drop('DREB_ESPN', 1)\n",
      "/var/folders/8z/yxhm1c6x4bvg_s6d6w0cl6_80000gn/T/ipykernel_65471/2582868917.py:13: FutureWarning: In a future version of pandas all arguments of DataFrame.drop except for the argument 'labels' will be keyword-only\n",
      "  fantasy_df = fantasy_df.drop('AST_ESPN', 1)\n",
      "/var/folders/8z/yxhm1c6x4bvg_s6d6w0cl6_80000gn/T/ipykernel_65471/2582868917.py:14: FutureWarning: In a future version of pandas all arguments of DataFrame.drop except for the argument 'labels' will be keyword-only\n",
      "  fantasy_df = fantasy_df.drop('STL_ESPN', 1)\n",
      "/var/folders/8z/yxhm1c6x4bvg_s6d6w0cl6_80000gn/T/ipykernel_65471/2582868917.py:15: FutureWarning: In a future version of pandas all arguments of DataFrame.drop except for the argument 'labels' will be keyword-only\n",
      "  fantasy_df = fantasy_df.drop('BLK_ESPN', 1)\n",
      "/var/folders/8z/yxhm1c6x4bvg_s6d6w0cl6_80000gn/T/ipykernel_65471/2582868917.py:16: FutureWarning: In a future version of pandas all arguments of DataFrame.drop except for the argument 'labels' will be keyword-only\n",
      "  fantasy_df = fantasy_df.drop('TOV_ESPN', 1)\n",
      "/var/folders/8z/yxhm1c6x4bvg_s6d6w0cl6_80000gn/T/ipykernel_65471/2582868917.py:17: FutureWarning: In a future version of pandas all arguments of DataFrame.drop except for the argument 'labels' will be keyword-only\n",
      "  fantasy_df = fantasy_df.drop('PF_ESPN', 1)\n",
      "/var/folders/8z/yxhm1c6x4bvg_s6d6w0cl6_80000gn/T/ipykernel_65471/2582868917.py:18: FutureWarning: In a future version of pandas all arguments of DataFrame.drop except for the argument 'labels' will be keyword-only\n",
      "  fantasy_df = fantasy_df.drop('DD2_ESPN', 1)\n",
      "/var/folders/8z/yxhm1c6x4bvg_s6d6w0cl6_80000gn/T/ipykernel_65471/2582868917.py:19: FutureWarning: In a future version of pandas all arguments of DataFrame.drop except for the argument 'labels' will be keyword-only\n",
      "  fantasy_df = fantasy_df.drop('TD3_ESPN', 1)\n",
      "/var/folders/8z/yxhm1c6x4bvg_s6d6w0cl6_80000gn/T/ipykernel_65471/2582868917.py:20: FutureWarning: In a future version of pandas all arguments of DataFrame.drop except for the argument 'labels' will be keyword-only\n",
      "  fantasy_df = fantasy_df.drop('PTS_ESPN', 1)\n",
      "/var/folders/8z/yxhm1c6x4bvg_s6d6w0cl6_80000gn/T/ipykernel_65471/2582868917.py:21: FutureWarning: In a future version of pandas all arguments of DataFrame.drop except for the argument 'labels' will be keyword-only\n",
      "  fantasy_df = fantasy_df.drop('W_ESPN', 1)\n",
      "/var/folders/8z/yxhm1c6x4bvg_s6d6w0cl6_80000gn/T/ipykernel_65471/2582868917.py:22: FutureWarning: In a future version of pandas all arguments of DataFrame.drop except for the argument 'labels' will be keyword-only\n",
      "  fantasy_df = fantasy_df.drop('NET_ESPN', 1)\n",
      "/var/folders/8z/yxhm1c6x4bvg_s6d6w0cl6_80000gn/T/ipykernel_65471/2582868917.py:23: FutureWarning: In a future version of pandas all arguments of DataFrame.drop except for the argument 'labels' will be keyword-only\n",
      "  fantasy_df = fantasy_df.drop('AVG_NET_ESPN', 1)\n"
     ]
    }
   ],
   "source": [
    "col = ['GP_ESPN', 'FGM_ESPN', 'FGA_ESPN', 'FTM_ESPN', 'FTA_ESPN', 'FG3M_ESPN', 'REB_ESPN', 'OREB_ESPN', 'DREB_ESPN', 'AST_ESPN', 'STL_ESPN', 'BLK_ESPN', 'TOV_ESPN', 'PF_ESPN', 'DD2_ESPN', 'TD3_ESPN', 'PTS_ESPN', 'W_ESPN', 'NET_ESPN', 'AVG_NET_ESPN']\n",
    "\n",
    "if set(col).issubset(fantasy_df.columns):\n",
    "    fantasy_df = fantasy_df.drop('GP_ESPN', 1)\n",
    "    fantasy_df = fantasy_df.drop('FGM_ESPN', 1)\n",
    "    fantasy_df = fantasy_df.drop('FGA_ESPN', 1)\n",
    "    fantasy_df = fantasy_df.drop('FTM_ESPN', 1)\n",
    "    fantasy_df = fantasy_df.drop('FTA_ESPN', 1)\n",
    "    fantasy_df = fantasy_df.drop('FG3M_ESPN', 1)\n",
    "    fantasy_df = fantasy_df.drop('REB_ESPN', 1)\n",
    "    fantasy_df = fantasy_df.drop('OREB_ESPN', 1)\n",
    "    fantasy_df = fantasy_df.drop('DREB_ESPN', 1)\n",
    "    fantasy_df = fantasy_df.drop('AST_ESPN', 1)\n",
    "    fantasy_df = fantasy_df.drop('STL_ESPN', 1)\n",
    "    fantasy_df = fantasy_df.drop('BLK_ESPN', 1)\n",
    "    fantasy_df = fantasy_df.drop('TOV_ESPN', 1)\n",
    "    fantasy_df = fantasy_df.drop('PF_ESPN', 1)\n",
    "    fantasy_df = fantasy_df.drop('DD2_ESPN', 1)\n",
    "    fantasy_df = fantasy_df.drop('TD3_ESPN', 1)\n",
    "    fantasy_df = fantasy_df.drop('PTS_ESPN', 1)\n",
    "    fantasy_df = fantasy_df.drop('W_ESPN', 1)\n",
    "    fantasy_df = fantasy_df.drop('NET_ESPN', 1)\n",
    "    fantasy_df = fantasy_df.drop('AVG_NET_ESPN', 1)\n",
    "print(fantasy_df)"
   ]
  },
  {
   "cell_type": "code",
   "execution_count": 9,
   "id": "4badc591",
   "metadata": {},
   "outputs": [],
   "source": [
    "from sqlalchemy import create_engine\n",
    "from pandas.io import sql\n",
    "import pymysql\n",
    "import mysql.connector"
   ]
  },
  {
   "cell_type": "code",
   "execution_count": 10,
   "id": "f3282d21",
   "metadata": {},
   "outputs": [],
   "source": [
    "mydb = mysql.connector.connect(\n",
    "  host=os.environ.get(\"DB_HOST\"),\n",
    "  user=os.environ.get(\"DB_USER\"),\n",
    "  password=os.environ.get(\"DB_PASSWORD\"),\n",
    "  database=os.environ.get(\"DB_NAME\")\n",
    ")\n",
    "\n",
    "mycursor = mydb.cursor()\n",
    "\n",
    "sql = \"DROP TABLE IF EXISTS nba_orignal\"\n",
    "\n",
    "mycursor.execute(sql)"
   ]
  },
  {
   "cell_type": "code",
   "execution_count": 11,
   "id": "0e726618",
   "metadata": {},
   "outputs": [],
   "source": [
    "# Credentials to database connection\n",
    "hostname=os.environ.get(\"DB_HOST\")\n",
    "dbname=os.environ.get(\"DB_NAME\")\n",
    "uname=os.environ.get(\"DB_USER\")\n",
    "pwd=os.environ.get(\"DB_PASSWORD\")\n",
    "\n",
    "# Create SQLAlchemy engine to connect to MySQL Database\n",
    "engine = create_engine(\"mysql+pymysql://{user}:{pw}@{host}/{db}\"\n",
    "\t\t\t\t.format(host=hostname, db=dbname, user=uname, pw=pwd))\n",
    "nba_df.to_sql('nba_orignal', engine, index=False)\n",
    "mydb.close()"
   ]
  },
  {
   "cell_type": "code",
   "execution_count": 12,
   "id": "4d79d8a9",
   "metadata": {},
   "outputs": [
    {
     "name": "stdout",
     "output_type": "stream",
     "text": [
      "['SEASON_ID', 'PLAYER_ID', 'PLAYER_NAME', 'TEAM_ID', 'TEAM_ABBREVIATION', 'AGE', 'GP', 'GM', 'W', 'L', 'W_PCT', 'MIN', 'FGM', 'FGA', 'FG_PCT', 'FG3M', 'FG3A', 'FG3_PCT', 'FTM', 'FTA', 'FT_PCT', 'OREB', 'DREB', 'REB', 'AST', 'TOV', 'STL', 'BLK', 'BLKA', 'PF', 'PFD', 'PTS', 'PLUS_MINUS', 'NBA_FANTASY_PTS', 'DD2', 'TD3', 'GP_RANK', 'W_RANK', 'L_RANK', 'W_PCT_RANK', 'MIN_RANK', 'FGM_RANK', 'FGA_RANK', 'FG_PCT_RANK', 'FG3M_RANK', 'FG3A_RANK', 'FG3_PCT_RANK', 'FTM_RANK', 'FTA_RANK', 'FT_PCT_RANK', 'OREB_RANK', 'DREB_RANK', 'REB_RANK', 'AST_RANK', 'TOV_RANK', 'STL_RANK', 'BLK_RANK', 'BLKA_RANK', 'PF_RANK', 'PFD_RANK', 'PTS_RANK', 'PLUS_MINUS_RANK', 'NBA_FANTASY_PTS_PER_SEASON_RANK', 'DD2_RANK', 'TD3_RANK', 'count', 'PER']\n"
     ]
    }
   ],
   "source": [
    "column_list2 = list(fantasy_df)\n",
    "print(column_list2)"
   ]
  },
  {
   "cell_type": "code",
   "execution_count": 13,
   "id": "efd8e7fc",
   "metadata": {},
   "outputs": [],
   "source": [
    "from sklearn.linear_model import LinearRegression\n",
    "from sklearn.model_selection import train_test_split\n",
    "from sklearn.neighbors import KNeighborsRegressor\n",
    "from sklearn.metrics import mean_squared_error"
   ]
  },
  {
   "cell_type": "code",
   "execution_count": null,
   "id": "85115427",
   "metadata": {},
   "outputs": [],
   "source": []
  }
 ],
 "metadata": {
  "kernelspec": {
   "display_name": "Python 3 (ipykernel)",
   "language": "python",
   "name": "python3"
  },
  "language_info": {
   "codemirror_mode": {
    "name": "ipython",
    "version": 3
   },
   "file_extension": ".py",
   "mimetype": "text/x-python",
   "name": "python",
   "nbconvert_exporter": "python",
   "pygments_lexer": "ipython3",
   "version": "3.9.7"
  }
 },
 "nbformat": 4,
 "nbformat_minor": 5
}
