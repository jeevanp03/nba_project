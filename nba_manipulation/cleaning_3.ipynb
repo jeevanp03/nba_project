{
 "cells": [
  {
   "cell_type": "code",
   "execution_count": 1,
   "id": "43dd2996",
   "metadata": {},
   "outputs": [],
   "source": [
    "import mysql.connector as connection\n",
    "import pandas as pd\n",
    "import numpy as np\n",
    "import os\n",
    "try:\n",
    "    mydb = connection.connect(host=os.environ.get(\"DB_HOST\"), database = os.environ.get(\"DB_NAME\"),user=os.environ.get(\"DB_USER\"), passwd=os.environ.get(\"DB_PASSWORD\"),use_pure=True)\n",
    "    query = \"Select * from nba_clean;\"\n",
    "    nba_df = pd.read_sql(query,mydb)\n",
    "    mydb.close() #close the connection\n",
    "except Exception as e:\n",
    "    mydb.close()\n",
    "    print(str(e))"
   ]
  },
  {
   "cell_type": "code",
   "execution_count": 2,
   "id": "2c12a6e3",
   "metadata": {},
   "outputs": [
    {
     "name": "stdout",
     "output_type": "stream",
     "text": [
      "     SEASON_ID  PLAYER_ID      PLAYER_NAME NICKNAME       TEAM_ID  \\\n",
      "0      2014-15     203932     Aaron Gordon    Aaron  1.610613e+09   \n",
      "1      2015-16     203932     Aaron Gordon    Aaron  1.610613e+09   \n",
      "2      2016-17     203932     Aaron Gordon    Aaron  1.610613e+09   \n",
      "3      2017-18     203932     Aaron Gordon    Aaron  1.610613e+09   \n",
      "4      2018-19     203932     Aaron Gordon    Aaron  1.610613e+09   \n",
      "...        ...        ...              ...      ...           ...   \n",
      "2797   2021-22    1630533  Ziaire Williams   Ziaire  1.610613e+09   \n",
      "2798   2019-20    1629627  Zion Williamson     Zion  1.610613e+09   \n",
      "2799   2020-21    1629627  Zion Williamson     Zion  1.610613e+09   \n",
      "2800   2019-20    1629597   Zylan Cheatham    Zylan  1.610613e+09   \n",
      "2801   2021-22    1629597   Zylan Cheatham    Zylan  1.610613e+09   \n",
      "\n",
      "     TEAM_ABBREVIATION   AGE    GP     W     L  ...  PF_RANK  PFD_RANK  \\\n",
      "0                  ORL  19.0  47.0  14.0  33.0  ...    207.0     301.0   \n",
      "1                  ORL  20.0  78.0  32.0  46.0  ...    349.0     132.0   \n",
      "2                  ORL  21.0  80.0  29.0  51.0  ...    412.0      84.0   \n",
      "3                  ORL  22.0  58.0  19.0  39.0  ...    319.0      67.0   \n",
      "4                  ORL  23.0  78.0  40.0  38.0  ...    439.0      39.0   \n",
      "...                ...   ...   ...   ...   ...  ...      ...       ...   \n",
      "2797               MEM  20.0  62.0  41.0  21.0  ...    415.0     305.0   \n",
      "2798               NOP  19.0  24.0  11.0  13.0  ...    174.0     107.0   \n",
      "2799               NOP  20.0  61.0  29.0  32.0  ...    457.0       6.0   \n",
      "2800               NOP  24.0   4.0   2.0   2.0  ...     78.0     513.0   \n",
      "2801               UTA  26.0   1.0   0.0   1.0  ...      1.0     564.0   \n",
      "\n",
      "      PTS_RANK  PLUS_MINUS_RANK  NBA_FANTASY_PTS_RANK  DD2_RANK  TD3_RANK  \\\n",
      "0        320.0            434.0                 317.0     193.0      21.0   \n",
      "1        142.0            358.0                 101.0      54.0      25.0   \n",
      "2         74.0            436.0                  78.0      80.0      24.0   \n",
      "3         66.0            439.0                  72.0      30.0      32.0   \n",
      "4         52.0             91.0                  43.0      34.0      38.0   \n",
      "...        ...              ...                   ...       ...       ...   \n",
      "2797     226.0             95.0                 271.0     268.0      40.0   \n",
      "2798     181.0            114.0                 250.0     142.0      29.0   \n",
      "2799      10.0            107.0                  16.0      33.0      29.0   \n",
      "2800     486.0            324.0                 491.0     239.0      29.0   \n",
      "2801     582.0            332.0                 596.0     268.0      40.0   \n",
      "\n",
      "      CFID            CFPARAMS  count  \n",
      "0      5.0   203932,1610612753      8  \n",
      "1      5.0   203932,1610612753      8  \n",
      "2      5.0   203932,1610612753      8  \n",
      "3      5.0   203932,1610612753      8  \n",
      "4      5.0   203932,1610612753      8  \n",
      "...    ...                 ...    ...  \n",
      "2797   5.0  1630533,1610612763      1  \n",
      "2798   5.0  1629627,1610612740      2  \n",
      "2799   5.0  1629627,1610612740      2  \n",
      "2800   5.0  1629597,1610612740      2  \n",
      "2801   5.0  1629597,1610612762      2  \n",
      "\n",
      "[2802 rows x 68 columns]\n"
     ]
    }
   ],
   "source": [
    "print(nba_df)"
   ]
  },
  {
   "cell_type": "markdown",
   "id": "65549394",
   "metadata": {},
   "source": [
    "# Scoring Metrics"
   ]
  },
  {
   "cell_type": "code",
   "execution_count": 3,
   "id": "d8e07f05",
   "metadata": {},
   "outputs": [],
   "source": [
    "espn_scoring = {\"GP_ESPN\": [0.0],\"FGM_ESPN\": [2.0],\"FGA_ESPN\": [-1.0],\"FTM_ESPN\": [1.0],\"FTA_ESPN\": [-1.0],\"FG3M_ESPN\": [1.0],\"REB_ESPN\": [1.0],\"OREB_ESPN\": [0.0],\"DREB_ESPN\": [0.0],\"AST_ESPN\": [2.0],\"STL_ESPN\": [4.0],\"BLK_ESPN\": [4.0],\"TOV_ESPN\": [-2.0],\"PF_ESPN\": [0.0],\"DD2_ESPN\": [0.0],\"TD3_ESPN\": [0.0],\"PTS_ESPN\": [1.0],\"W_ESPN\" : [0.0]}"
   ]
  },
  {
   "cell_type": "code",
   "execution_count": 4,
   "id": "8f427463",
   "metadata": {},
   "outputs": [],
   "source": [
    "yahoo_scoring = {\"PTS_YAHOO\": [1.0],\"REB_YAHOO\": [1.2],\"AST_YAHOO\": [1.5],\"STL_YAHOO\": [3.0],\"BLK_YAHOO\": [3.0],\"TOV_YAHOO\": [-1.0]}"
   ]
  },
  {
   "cell_type": "code",
   "execution_count": 5,
   "id": "1eaa0d51",
   "metadata": {},
   "outputs": [
    {
     "name": "stderr",
     "output_type": "stream",
     "text": [
      "/var/folders/8z/yxhm1c6x4bvg_s6d6w0cl6_80000gn/T/ipykernel_86574/575339427.py:3: FutureWarning: In a future version of pandas all arguments of DataFrame.drop except for the argument 'labels' will be keyword-only\n",
      "  nba_df = nba_df.drop('CFPARAMS', 1)\n",
      "/var/folders/8z/yxhm1c6x4bvg_s6d6w0cl6_80000gn/T/ipykernel_86574/575339427.py:4: FutureWarning: In a future version of pandas all arguments of DataFrame.drop except for the argument 'labels' will be keyword-only\n",
      "  nba_df = nba_df.drop('CFID', 1)\n",
      "/var/folders/8z/yxhm1c6x4bvg_s6d6w0cl6_80000gn/T/ipykernel_86574/575339427.py:5: FutureWarning: In a future version of pandas all arguments of DataFrame.drop except for the argument 'labels' will be keyword-only\n",
      "  nba_df = nba_df.drop('NICKNAME', 1)\n",
      "/var/folders/8z/yxhm1c6x4bvg_s6d6w0cl6_80000gn/T/ipykernel_86574/575339427.py:6: FutureWarning: In a future version of pandas all arguments of DataFrame.drop except for the argument 'labels' will be keyword-only\n",
      "  nba_df = nba_df.drop('TEAM_ID',1)\n",
      "/var/folders/8z/yxhm1c6x4bvg_s6d6w0cl6_80000gn/T/ipykernel_86574/575339427.py:7: FutureWarning: In a future version of pandas all arguments of DataFrame.drop except for the argument 'labels' will be keyword-only\n",
      "  nba_df = nba_df.drop('PLAYER_ID',1)\n"
     ]
    }
   ],
   "source": [
    "col = ['CFPARAMS', 'CFID', 'NICKNAME','TEAM_ID','PLAYER_ID']\n",
    "if set(col).issubset(nba_df.columns):\n",
    "    nba_df = nba_df.drop('CFPARAMS', 1)\n",
    "    nba_df = nba_df.drop('CFID', 1)\n",
    "    nba_df = nba_df.drop('NICKNAME', 1)\n",
    "    nba_df = nba_df.drop('TEAM_ID',1)\n",
    "    nba_df = nba_df.drop('PLAYER_ID',1)"
   ]
  },
  {
   "cell_type": "code",
   "execution_count": 6,
   "id": "03f5d795",
   "metadata": {},
   "outputs": [
    {
     "name": "stdout",
     "output_type": "stream",
     "text": [
      "     SEASON_ID      PLAYER_NAME TEAM_ABBREVIATION   AGE    GP     W     L  \\\n",
      "0      2014-15     Aaron Gordon               ORL  19.0  47.0  14.0  33.0   \n",
      "1      2015-16     Aaron Gordon               ORL  20.0  78.0  32.0  46.0   \n",
      "2      2016-17     Aaron Gordon               ORL  21.0  80.0  29.0  51.0   \n",
      "3      2017-18     Aaron Gordon               ORL  22.0  58.0  19.0  39.0   \n",
      "4      2018-19     Aaron Gordon               ORL  23.0  78.0  40.0  38.0   \n",
      "...        ...              ...               ...   ...   ...   ...   ...   \n",
      "2797   2021-22  Ziaire Williams               MEM  20.0  62.0  41.0  21.0   \n",
      "2798   2019-20  Zion Williamson               NOP  19.0  24.0  11.0  13.0   \n",
      "2799   2020-21  Zion Williamson               NOP  20.0  61.0  29.0  32.0   \n",
      "2800   2019-20   Zylan Cheatham               NOP  24.0   4.0   2.0   2.0   \n",
      "2801   2021-22   Zylan Cheatham               UTA  26.0   1.0   0.0   1.0   \n",
      "\n",
      "      W_PCT          MIN    FGM  ...  BLK_RANK  BLKA_RANK  PF_RANK  PFD_RANK  \\\n",
      "0     0.298   796.925000   93.0  ...     154.0      202.0    207.0     301.0   \n",
      "1     0.410  1863.120000  274.0  ...      57.0      342.0    349.0     132.0   \n",
      "2     0.363  2297.965000  393.0  ...      83.0      405.0    412.0      84.0   \n",
      "3     0.328  1909.078333  375.0  ...      76.0      438.0    319.0      67.0   \n",
      "4     0.513  2632.533333  470.0  ...      50.0      471.0    439.0      39.0   \n",
      "...     ...          ...    ...  ...       ...        ...      ...       ...   \n",
      "2797  0.661  1346.466667  191.0  ...     291.0      329.0    415.0     305.0   \n",
      "2798  0.458   668.141667  210.0  ...     289.0      441.0    174.0     107.0   \n",
      "2799  0.475  2025.890000  634.0  ...      80.0      540.0    457.0       6.0   \n",
      "2800  0.500    51.043333    6.0  ...     444.0        1.0     78.0     513.0   \n",
      "2801  0.000     5.183333    0.0  ...     520.0        1.0      1.0     564.0   \n",
      "\n",
      "      PTS_RANK  PLUS_MINUS_RANK  NBA_FANTASY_PTS_RANK  DD2_RANK  TD3_RANK  \\\n",
      "0        320.0            434.0                 317.0     193.0      21.0   \n",
      "1        142.0            358.0                 101.0      54.0      25.0   \n",
      "2         74.0            436.0                  78.0      80.0      24.0   \n",
      "3         66.0            439.0                  72.0      30.0      32.0   \n",
      "4         52.0             91.0                  43.0      34.0      38.0   \n",
      "...        ...              ...                   ...       ...       ...   \n",
      "2797     226.0             95.0                 271.0     268.0      40.0   \n",
      "2798     181.0            114.0                 250.0     142.0      29.0   \n",
      "2799      10.0            107.0                  16.0      33.0      29.0   \n",
      "2800     486.0            324.0                 491.0     239.0      29.0   \n",
      "2801     582.0            332.0                 596.0     268.0      40.0   \n",
      "\n",
      "      count  \n",
      "0         8  \n",
      "1         8  \n",
      "2         8  \n",
      "3         8  \n",
      "4         8  \n",
      "...     ...  \n",
      "2797      1  \n",
      "2798      2  \n",
      "2799      2  \n",
      "2800      2  \n",
      "2801      2  \n",
      "\n",
      "[2802 rows x 63 columns]\n"
     ]
    }
   ],
   "source": [
    "print(nba_df)"
   ]
  },
  {
   "cell_type": "code",
   "execution_count": 7,
   "id": "e85a75cd",
   "metadata": {},
   "outputs": [
    {
     "name": "stdout",
     "output_type": "stream",
     "text": [
      "570\n",
      "2802\n"
     ]
    }
   ],
   "source": [
    "all_names = nba_df[\"PLAYER_NAME\"].tolist()\n",
    "names = pd.unique(nba_df[['PLAYER_NAME']].values.ravel())\n",
    "length = len(names)\n",
    "print(length)\n",
    "length_2 = len(all_names)\n",
    "print(length_2)"
   ]
  },
  {
   "cell_type": "markdown",
   "id": "e3038bc1",
   "metadata": {},
   "source": [
    "# ESPN DF"
   ]
  },
  {
   "cell_type": "code",
   "execution_count": 8,
   "id": "5b9c8710",
   "metadata": {},
   "outputs": [
    {
     "name": "stdout",
     "output_type": "stream",
     "text": [
      "   GP_ESPN  FGM_ESPN  FGA_ESPN  FTM_ESPN  FTA_ESPN  FG3M_ESPN  REB_ESPN  \\\n",
      "0      0.0       2.0      -1.0       1.0      -1.0        1.0       1.0   \n",
      "\n",
      "   OREB_ESPN  DREB_ESPN  AST_ESPN  STL_ESPN  BLK_ESPN  TOV_ESPN  PF_ESPN  \\\n",
      "0        0.0        0.0       2.0       4.0       4.0      -2.0      0.0   \n",
      "\n",
      "   DD2_ESPN  TD3_ESPN  PTS_ESPN  W_ESPN  \n",
      "0       0.0       0.0       1.0     0.0  \n"
     ]
    }
   ],
   "source": [
    "espn_df = pd.DataFrame.from_dict(espn_scoring)  \n",
    "print(espn_df)"
   ]
  },
  {
   "cell_type": "code",
   "execution_count": 9,
   "id": "39e48d09",
   "metadata": {},
   "outputs": [
    {
     "name": "stdout",
     "output_type": "stream",
     "text": [
      "   GP_ESPN  FGM_ESPN  FGA_ESPN  FTM_ESPN  FTA_ESPN  FG3M_ESPN  REB_ESPN  \\\n",
      "0      0.0       2.0      -1.0       1.0      -1.0        1.0       1.0   \n",
      "1      0.0       2.0      -1.0       1.0      -1.0        1.0       1.0   \n",
      "2      0.0       2.0      -1.0       1.0      -1.0        1.0       1.0   \n",
      "3      0.0       2.0      -1.0       1.0      -1.0        1.0       1.0   \n",
      "4      0.0       2.0      -1.0       1.0      -1.0        1.0       1.0   \n",
      "\n",
      "   OREB_ESPN  DREB_ESPN  AST_ESPN  STL_ESPN  BLK_ESPN  TOV_ESPN  PF_ESPN  \\\n",
      "0        0.0        0.0       2.0       4.0       4.0      -2.0      0.0   \n",
      "1        0.0        0.0       2.0       4.0       4.0      -2.0      0.0   \n",
      "2        0.0        0.0       2.0       4.0       4.0      -2.0      0.0   \n",
      "3        0.0        0.0       2.0       4.0       4.0      -2.0      0.0   \n",
      "4        0.0        0.0       2.0       4.0       4.0      -2.0      0.0   \n",
      "\n",
      "   DD2_ESPN  TD3_ESPN  PTS_ESPN  W_ESPN  \n",
      "0       0.0       0.0       1.0     0.0  \n",
      "1       0.0       0.0       1.0     0.0  \n",
      "2       0.0       0.0       1.0     0.0  \n",
      "3       0.0       0.0       1.0     0.0  \n",
      "4       0.0       0.0       1.0     0.0  \n",
      "     GP_ESPN  FGM_ESPN  FGA_ESPN  FTM_ESPN  FTA_ESPN  FG3M_ESPN  REB_ESPN  \\\n",
      "565      0.0       2.0      -1.0       1.0      -1.0        1.0       1.0   \n",
      "566      0.0       2.0      -1.0       1.0      -1.0        1.0       1.0   \n",
      "567      0.0       2.0      -1.0       1.0      -1.0        1.0       1.0   \n",
      "568      0.0       2.0      -1.0       1.0      -1.0        1.0       1.0   \n",
      "569      0.0       2.0      -1.0       1.0      -1.0        1.0       1.0   \n",
      "\n",
      "     OREB_ESPN  DREB_ESPN  AST_ESPN  STL_ESPN  BLK_ESPN  TOV_ESPN  PF_ESPN  \\\n",
      "565        0.0        0.0       2.0       4.0       4.0      -2.0      0.0   \n",
      "566        0.0        0.0       2.0       4.0       4.0      -2.0      0.0   \n",
      "567        0.0        0.0       2.0       4.0       4.0      -2.0      0.0   \n",
      "568        0.0        0.0       2.0       4.0       4.0      -2.0      0.0   \n",
      "569        0.0        0.0       2.0       4.0       4.0      -2.0      0.0   \n",
      "\n",
      "     DD2_ESPN  TD3_ESPN  PTS_ESPN  W_ESPN  \n",
      "565       0.0       0.0       1.0     0.0  \n",
      "566       0.0       0.0       1.0     0.0  \n",
      "567       0.0       0.0       1.0     0.0  \n",
      "568       0.0       0.0       1.0     0.0  \n",
      "569       0.0       0.0       1.0     0.0  \n"
     ]
    }
   ],
   "source": [
    "df_repeated = pd.concat([espn_df]*length, ignore_index=True)\n",
    "print(df_repeated.head())\n",
    "print(df_repeated.tail())"
   ]
  },
  {
   "cell_type": "code",
   "execution_count": 10,
   "id": "4849a0cf",
   "metadata": {},
   "outputs": [
    {
     "name": "stdout",
     "output_type": "stream",
     "text": [
      "   GP_ESPN  FGM_ESPN  FGA_ESPN  FTM_ESPN  FTA_ESPN  FG3M_ESPN  REB_ESPN  \\\n",
      "0      0.0       2.0      -1.0       1.0      -1.0        1.0       1.0   \n",
      "1      0.0       2.0      -1.0       1.0      -1.0        1.0       1.0   \n",
      "2      0.0       2.0      -1.0       1.0      -1.0        1.0       1.0   \n",
      "3      0.0       2.0      -1.0       1.0      -1.0        1.0       1.0   \n",
      "4      0.0       2.0      -1.0       1.0      -1.0        1.0       1.0   \n",
      "\n",
      "   OREB_ESPN  DREB_ESPN  AST_ESPN  STL_ESPN  BLK_ESPN  TOV_ESPN  PF_ESPN  \\\n",
      "0        0.0        0.0       2.0       4.0       4.0      -2.0      0.0   \n",
      "1        0.0        0.0       2.0       4.0       4.0      -2.0      0.0   \n",
      "2        0.0        0.0       2.0       4.0       4.0      -2.0      0.0   \n",
      "3        0.0        0.0       2.0       4.0       4.0      -2.0      0.0   \n",
      "4        0.0        0.0       2.0       4.0       4.0      -2.0      0.0   \n",
      "\n",
      "   DD2_ESPN  TD3_ESPN  PTS_ESPN  W_ESPN  \n",
      "0       0.0       0.0       1.0     0.0  \n",
      "1       0.0       0.0       1.0     0.0  \n",
      "2       0.0       0.0       1.0     0.0  \n",
      "3       0.0       0.0       1.0     0.0  \n",
      "4       0.0       0.0       1.0     0.0  \n",
      "      GP_ESPN  FGM_ESPN  FGA_ESPN  FTM_ESPN  FTA_ESPN  FG3M_ESPN  REB_ESPN  \\\n",
      "2797      0.0       2.0      -1.0       1.0      -1.0        1.0       1.0   \n",
      "2798      0.0       2.0      -1.0       1.0      -1.0        1.0       1.0   \n",
      "2799      0.0       2.0      -1.0       1.0      -1.0        1.0       1.0   \n",
      "2800      0.0       2.0      -1.0       1.0      -1.0        1.0       1.0   \n",
      "2801      0.0       2.0      -1.0       1.0      -1.0        1.0       1.0   \n",
      "\n",
      "      OREB_ESPN  DREB_ESPN  AST_ESPN  STL_ESPN  BLK_ESPN  TOV_ESPN  PF_ESPN  \\\n",
      "2797        0.0        0.0       2.0       4.0       4.0      -2.0      0.0   \n",
      "2798        0.0        0.0       2.0       4.0       4.0      -2.0      0.0   \n",
      "2799        0.0        0.0       2.0       4.0       4.0      -2.0      0.0   \n",
      "2800        0.0        0.0       2.0       4.0       4.0      -2.0      0.0   \n",
      "2801        0.0        0.0       2.0       4.0       4.0      -2.0      0.0   \n",
      "\n",
      "      DD2_ESPN  TD3_ESPN  PTS_ESPN  W_ESPN  \n",
      "2797       0.0       0.0       1.0     0.0  \n",
      "2798       0.0       0.0       1.0     0.0  \n",
      "2799       0.0       0.0       1.0     0.0  \n",
      "2800       0.0       0.0       1.0     0.0  \n",
      "2801       0.0       0.0       1.0     0.0  \n"
     ]
    }
   ],
   "source": [
    "espn_scoring_df = pd.concat([espn_df]*length_2, ignore_index=True)\n",
    "print(espn_scoring_df.head())\n",
    "print(espn_scoring_df.tail())"
   ]
  },
  {
   "cell_type": "code",
   "execution_count": 11,
   "id": "600da6a4",
   "metadata": {},
   "outputs": [],
   "source": [
    "from sqlalchemy import create_engine\n",
    "from pandas.io import sql\n",
    "import pymysql\n",
    "import mysql.connector"
   ]
  },
  {
   "cell_type": "code",
   "execution_count": 12,
   "id": "43732ee8",
   "metadata": {},
   "outputs": [],
   "source": [
    "mydb = mysql.connector.connect(\n",
    "  host=os.environ.get(\"DB_HOST\"),\n",
    "  user=os.environ.get(\"DB_USER\"),\n",
    "  password=os.environ.get(\"DB_PASSWORD\"),\n",
    "  database=os.environ.get(\"DB_NAME\")\n",
    ")\n",
    "\n",
    "mycursor = mydb.cursor()\n",
    "\n",
    "sql = \"DROP TABLE IF EXISTS espn_scoring\"\n",
    "\n",
    "mycursor.execute(sql)\n"
   ]
  },
  {
   "cell_type": "code",
   "execution_count": 13,
   "id": "66a0920a",
   "metadata": {},
   "outputs": [],
   "source": [
    "# Credentials to database connection\n",
    "hostname=os.environ.get(\"DB_HOST\")\n",
    "dbname=os.environ.get(\"DB_NAME\")\n",
    "uname=os.environ.get(\"DB_USER\")\n",
    "pwd=os.environ.get(\"DB_PASSWORD\")\n",
    "\n",
    "# Create SQLAlchemy engine to connect to MySQL Database\n",
    "engine = create_engine(\"mysql+pymysql://{user}:{pw}@{host}/{db}\"\n",
    "\t\t\t\t.format(host=hostname, db=dbname, user=uname, pw=pwd))\n",
    "espn_scoring_df.to_sql('espn_scoring', engine, index=False)"
   ]
  },
  {
   "cell_type": "code",
   "execution_count": 14,
   "id": "63209255",
   "metadata": {},
   "outputs": [],
   "source": [
    "mydb.close()"
   ]
  },
  {
   "cell_type": "code",
   "execution_count": 15,
   "id": "5de18866",
   "metadata": {},
   "outputs": [],
   "source": [
    "df_repeated[\"PLAYER_NAME\"] = names"
   ]
  },
  {
   "cell_type": "code",
   "execution_count": 16,
   "id": "01f6f7bc",
   "metadata": {},
   "outputs": [
    {
     "name": "stdout",
     "output_type": "stream",
     "text": [
      "     GP_ESPN  FGM_ESPN  FGA_ESPN  FTM_ESPN  FTA_ESPN  FG3M_ESPN  REB_ESPN  \\\n",
      "0        0.0       2.0      -1.0       1.0      -1.0        1.0       1.0   \n",
      "1        0.0       2.0      -1.0       1.0      -1.0        1.0       1.0   \n",
      "2        0.0       2.0      -1.0       1.0      -1.0        1.0       1.0   \n",
      "3        0.0       2.0      -1.0       1.0      -1.0        1.0       1.0   \n",
      "4        0.0       2.0      -1.0       1.0      -1.0        1.0       1.0   \n",
      "..       ...       ...       ...       ...       ...        ...       ...   \n",
      "565      0.0       2.0      -1.0       1.0      -1.0        1.0       1.0   \n",
      "566      0.0       2.0      -1.0       1.0      -1.0        1.0       1.0   \n",
      "567      0.0       2.0      -1.0       1.0      -1.0        1.0       1.0   \n",
      "568      0.0       2.0      -1.0       1.0      -1.0        1.0       1.0   \n",
      "569      0.0       2.0      -1.0       1.0      -1.0        1.0       1.0   \n",
      "\n",
      "     OREB_ESPN  DREB_ESPN  AST_ESPN  STL_ESPN  BLK_ESPN  TOV_ESPN  PF_ESPN  \\\n",
      "0          0.0        0.0       2.0       4.0       4.0      -2.0      0.0   \n",
      "1          0.0        0.0       2.0       4.0       4.0      -2.0      0.0   \n",
      "2          0.0        0.0       2.0       4.0       4.0      -2.0      0.0   \n",
      "3          0.0        0.0       2.0       4.0       4.0      -2.0      0.0   \n",
      "4          0.0        0.0       2.0       4.0       4.0      -2.0      0.0   \n",
      "..         ...        ...       ...       ...       ...       ...      ...   \n",
      "565        0.0        0.0       2.0       4.0       4.0      -2.0      0.0   \n",
      "566        0.0        0.0       2.0       4.0       4.0      -2.0      0.0   \n",
      "567        0.0        0.0       2.0       4.0       4.0      -2.0      0.0   \n",
      "568        0.0        0.0       2.0       4.0       4.0      -2.0      0.0   \n",
      "569        0.0        0.0       2.0       4.0       4.0      -2.0      0.0   \n",
      "\n",
      "     DD2_ESPN  TD3_ESPN  PTS_ESPN  W_ESPN      PLAYER_NAME  \n",
      "0         0.0       0.0       1.0     0.0     Aaron Gordon  \n",
      "1         0.0       0.0       1.0     0.0      Aaron Henry  \n",
      "2         0.0       0.0       1.0     0.0    Aaron Holiday  \n",
      "3         0.0       0.0       1.0     0.0    Aaron Nesmith  \n",
      "4         0.0       0.0       1.0     0.0    Aaron Wiggins  \n",
      "..        ...       ...       ...     ...              ...  \n",
      "565       0.0       0.0       1.0     0.0      Zach LaVine  \n",
      "566       0.0       0.0       1.0     0.0       Zeke Nnaji  \n",
      "567       0.0       0.0       1.0     0.0  Ziaire Williams  \n",
      "568       0.0       0.0       1.0     0.0  Zion Williamson  \n",
      "569       0.0       0.0       1.0     0.0   Zylan Cheatham  \n",
      "\n",
      "[570 rows x 19 columns]\n"
     ]
    }
   ],
   "source": [
    "print(df_repeated)"
   ]
  },
  {
   "cell_type": "code",
   "execution_count": 17,
   "id": "7ef4d03f",
   "metadata": {},
   "outputs": [],
   "source": [
    "columns_list = [\n",
    "                \"GP_ESPN\",\n",
    "                \"PLAYER_NAME\",\n",
    "                \"FGM_ESPN\",\n",
    "                \"FGA_ESPN\",\n",
    "                \"FTM_ESPN\",\n",
    "                \"FTA_ESPN\",\n",
    "                \"FG3M_ESPN\",\n",
    "                \"REB_ESPN\",\n",
    "                \"OREB_ESPN\",\n",
    "                \"DREB_ESPN\",\n",
    "                \"AST_ESPN\",\n",
    "                \"STL_ESPN\",\n",
    "                \"BLK_ESPN\",\n",
    "                \"TOV_ESPN\",\n",
    "                \"PF_ESPN\",\n",
    "                \"DD2_ESPN\",\n",
    "                \"TD3_ESPN\",\n",
    "                \"PTS_ESPN\",\n",
    "                \"W_ESPN\"\n",
    "               ]"
   ]
  },
  {
   "cell_type": "code",
   "execution_count": 18,
   "id": "dda32e05",
   "metadata": {},
   "outputs": [],
   "source": [
    "df_repeated = df_repeated.reindex(columns = columns_list)"
   ]
  },
  {
   "cell_type": "code",
   "execution_count": 19,
   "id": "2009ea32",
   "metadata": {},
   "outputs": [
    {
     "name": "stdout",
     "output_type": "stream",
     "text": [
      "     GP_ESPN      PLAYER_NAME  FGM_ESPN  FGA_ESPN  FTM_ESPN  FTA_ESPN  \\\n",
      "0        0.0     Aaron Gordon       2.0      -1.0       1.0      -1.0   \n",
      "1        0.0      Aaron Henry       2.0      -1.0       1.0      -1.0   \n",
      "2        0.0    Aaron Holiday       2.0      -1.0       1.0      -1.0   \n",
      "3        0.0    Aaron Nesmith       2.0      -1.0       1.0      -1.0   \n",
      "4        0.0    Aaron Wiggins       2.0      -1.0       1.0      -1.0   \n",
      "..       ...              ...       ...       ...       ...       ...   \n",
      "565      0.0      Zach LaVine       2.0      -1.0       1.0      -1.0   \n",
      "566      0.0       Zeke Nnaji       2.0      -1.0       1.0      -1.0   \n",
      "567      0.0  Ziaire Williams       2.0      -1.0       1.0      -1.0   \n",
      "568      0.0  Zion Williamson       2.0      -1.0       1.0      -1.0   \n",
      "569      0.0   Zylan Cheatham       2.0      -1.0       1.0      -1.0   \n",
      "\n",
      "     FG3M_ESPN  REB_ESPN  OREB_ESPN  DREB_ESPN  AST_ESPN  STL_ESPN  BLK_ESPN  \\\n",
      "0          1.0       1.0        0.0        0.0       2.0       4.0       4.0   \n",
      "1          1.0       1.0        0.0        0.0       2.0       4.0       4.0   \n",
      "2          1.0       1.0        0.0        0.0       2.0       4.0       4.0   \n",
      "3          1.0       1.0        0.0        0.0       2.0       4.0       4.0   \n",
      "4          1.0       1.0        0.0        0.0       2.0       4.0       4.0   \n",
      "..         ...       ...        ...        ...       ...       ...       ...   \n",
      "565        1.0       1.0        0.0        0.0       2.0       4.0       4.0   \n",
      "566        1.0       1.0        0.0        0.0       2.0       4.0       4.0   \n",
      "567        1.0       1.0        0.0        0.0       2.0       4.0       4.0   \n",
      "568        1.0       1.0        0.0        0.0       2.0       4.0       4.0   \n",
      "569        1.0       1.0        0.0        0.0       2.0       4.0       4.0   \n",
      "\n",
      "     TOV_ESPN  PF_ESPN  DD2_ESPN  TD3_ESPN  PTS_ESPN  W_ESPN  \n",
      "0        -2.0      0.0       0.0       0.0       1.0     0.0  \n",
      "1        -2.0      0.0       0.0       0.0       1.0     0.0  \n",
      "2        -2.0      0.0       0.0       0.0       1.0     0.0  \n",
      "3        -2.0      0.0       0.0       0.0       1.0     0.0  \n",
      "4        -2.0      0.0       0.0       0.0       1.0     0.0  \n",
      "..        ...      ...       ...       ...       ...     ...  \n",
      "565      -2.0      0.0       0.0       0.0       1.0     0.0  \n",
      "566      -2.0      0.0       0.0       0.0       1.0     0.0  \n",
      "567      -2.0      0.0       0.0       0.0       1.0     0.0  \n",
      "568      -2.0      0.0       0.0       0.0       1.0     0.0  \n",
      "569      -2.0      0.0       0.0       0.0       1.0     0.0  \n",
      "\n",
      "[570 rows x 19 columns]\n"
     ]
    }
   ],
   "source": [
    "print(df_repeated)"
   ]
  },
  {
   "cell_type": "code",
   "execution_count": 20,
   "id": "374be920",
   "metadata": {},
   "outputs": [],
   "source": [
    "nba_df = pd.merge(nba_df, df_repeated, how = 'right', on = 'PLAYER_NAME')"
   ]
  },
  {
   "cell_type": "code",
   "execution_count": 21,
   "id": "67c1c088",
   "metadata": {},
   "outputs": [
    {
     "name": "stdout",
     "output_type": "stream",
     "text": [
      "     SEASON_ID      PLAYER_NAME TEAM_ABBREVIATION   AGE    GP     W     L  \\\n",
      "0      2014-15     Aaron Gordon               ORL  19.0  47.0  14.0  33.0   \n",
      "1      2015-16     Aaron Gordon               ORL  20.0  78.0  32.0  46.0   \n",
      "2      2016-17     Aaron Gordon               ORL  21.0  80.0  29.0  51.0   \n",
      "3      2017-18     Aaron Gordon               ORL  22.0  58.0  19.0  39.0   \n",
      "4      2018-19     Aaron Gordon               ORL  23.0  78.0  40.0  38.0   \n",
      "...        ...              ...               ...   ...   ...   ...   ...   \n",
      "2797   2021-22  Ziaire Williams               MEM  20.0  62.0  41.0  21.0   \n",
      "2798   2019-20  Zion Williamson               NOP  19.0  24.0  11.0  13.0   \n",
      "2799   2020-21  Zion Williamson               NOP  20.0  61.0  29.0  32.0   \n",
      "2800   2019-20   Zylan Cheatham               NOP  24.0   4.0   2.0   2.0   \n",
      "2801   2021-22   Zylan Cheatham               UTA  26.0   1.0   0.0   1.0   \n",
      "\n",
      "      W_PCT          MIN    FGM  ...  DREB_ESPN  AST_ESPN  STL_ESPN  BLK_ESPN  \\\n",
      "0     0.298   796.925000   93.0  ...        0.0       2.0       4.0       4.0   \n",
      "1     0.410  1863.120000  274.0  ...        0.0       2.0       4.0       4.0   \n",
      "2     0.363  2297.965000  393.0  ...        0.0       2.0       4.0       4.0   \n",
      "3     0.328  1909.078333  375.0  ...        0.0       2.0       4.0       4.0   \n",
      "4     0.513  2632.533333  470.0  ...        0.0       2.0       4.0       4.0   \n",
      "...     ...          ...    ...  ...        ...       ...       ...       ...   \n",
      "2797  0.661  1346.466667  191.0  ...        0.0       2.0       4.0       4.0   \n",
      "2798  0.458   668.141667  210.0  ...        0.0       2.0       4.0       4.0   \n",
      "2799  0.475  2025.890000  634.0  ...        0.0       2.0       4.0       4.0   \n",
      "2800  0.500    51.043333    6.0  ...        0.0       2.0       4.0       4.0   \n",
      "2801  0.000     5.183333    0.0  ...        0.0       2.0       4.0       4.0   \n",
      "\n",
      "      TOV_ESPN  PF_ESPN  DD2_ESPN  TD3_ESPN  PTS_ESPN  W_ESPN  \n",
      "0         -2.0      0.0       0.0       0.0       1.0     0.0  \n",
      "1         -2.0      0.0       0.0       0.0       1.0     0.0  \n",
      "2         -2.0      0.0       0.0       0.0       1.0     0.0  \n",
      "3         -2.0      0.0       0.0       0.0       1.0     0.0  \n",
      "4         -2.0      0.0       0.0       0.0       1.0     0.0  \n",
      "...        ...      ...       ...       ...       ...     ...  \n",
      "2797      -2.0      0.0       0.0       0.0       1.0     0.0  \n",
      "2798      -2.0      0.0       0.0       0.0       1.0     0.0  \n",
      "2799      -2.0      0.0       0.0       0.0       1.0     0.0  \n",
      "2800      -2.0      0.0       0.0       0.0       1.0     0.0  \n",
      "2801      -2.0      0.0       0.0       0.0       1.0     0.0  \n",
      "\n",
      "[2802 rows x 81 columns]\n"
     ]
    }
   ],
   "source": [
    "print(nba_df)"
   ]
  },
  {
   "cell_type": "code",
   "execution_count": 22,
   "id": "f2c855f9",
   "metadata": {},
   "outputs": [],
   "source": [
    "share_columns = [\"GP\",\n",
    "                \"FGM\",\n",
    "                \"FGA\",\n",
    "                \"FTM\",\n",
    "                \"FTA\",\n",
    "                \"FG3M\",\n",
    "                \"REB\",\n",
    "                \"OREB\",\n",
    "                \"DREB\",\n",
    "                \"AST\",\n",
    "                \"STL\",\n",
    "                \"BLK\",\n",
    "                \"TOV\",\n",
    "                \"PF\",\n",
    "                \"DD2\",\n",
    "                \"TD3\",\n",
    "                \"PTS\",\n",
    "                \"W\"]"
   ]
  },
  {
   "cell_type": "code",
   "execution_count": 23,
   "id": "a3f20d1b",
   "metadata": {},
   "outputs": [],
   "source": [
    "for column in share_columns:\n",
    "    nba_df[column +\"_ESPN\"] = nba_df[column] * nba_df[column+\"_ESPN\"]"
   ]
  },
  {
   "cell_type": "code",
   "execution_count": 24,
   "id": "27cd273a",
   "metadata": {},
   "outputs": [
    {
     "name": "stdout",
     "output_type": "stream",
     "text": [
      "     SEASON_ID      PLAYER_NAME TEAM_ABBREVIATION   AGE    GP     W     L  \\\n",
      "0      2014-15     Aaron Gordon               ORL  19.0  47.0  14.0  33.0   \n",
      "1      2015-16     Aaron Gordon               ORL  20.0  78.0  32.0  46.0   \n",
      "2      2016-17     Aaron Gordon               ORL  21.0  80.0  29.0  51.0   \n",
      "3      2017-18     Aaron Gordon               ORL  22.0  58.0  19.0  39.0   \n",
      "4      2018-19     Aaron Gordon               ORL  23.0  78.0  40.0  38.0   \n",
      "...        ...              ...               ...   ...   ...   ...   ...   \n",
      "2797   2021-22  Ziaire Williams               MEM  20.0  62.0  41.0  21.0   \n",
      "2798   2019-20  Zion Williamson               NOP  19.0  24.0  11.0  13.0   \n",
      "2799   2020-21  Zion Williamson               NOP  20.0  61.0  29.0  32.0   \n",
      "2800   2019-20   Zylan Cheatham               NOP  24.0   4.0   2.0   2.0   \n",
      "2801   2021-22   Zylan Cheatham               UTA  26.0   1.0   0.0   1.0   \n",
      "\n",
      "      W_PCT          MIN    FGM  ...  DREB_ESPN  AST_ESPN  STL_ESPN  BLK_ESPN  \\\n",
      "0     0.298   796.925000   93.0  ...        0.0      66.0      84.0      88.0   \n",
      "1     0.410  1863.120000  274.0  ...        0.0     256.0     236.0     220.0   \n",
      "2     0.363  2297.965000  393.0  ...        0.0     300.0     260.0     160.0   \n",
      "3     0.328  1909.078333  375.0  ...        0.0     272.0     236.0     180.0   \n",
      "4     0.513  2632.533333  470.0  ...        0.0     578.0     228.0     224.0   \n",
      "...     ...          ...    ...  ...        ...       ...       ...       ...   \n",
      "2797  0.661  1346.466667  191.0  ...        0.0     130.0     140.0      48.0   \n",
      "2798  0.458   668.141667  210.0  ...        0.0     100.0      64.0      36.0   \n",
      "2799  0.475  2025.890000  634.0  ...        0.0     452.0     228.0     156.0   \n",
      "2800  0.500    51.043333    6.0  ...        0.0       6.0       4.0       4.0   \n",
      "2801  0.000     5.183333    0.0  ...        0.0       0.0       0.0       0.0   \n",
      "\n",
      "      TOV_ESPN  PF_ESPN  DD2_ESPN  TD3_ESPN  PTS_ESPN  W_ESPN  \n",
      "0        -76.0      0.0       0.0       0.0     243.0     0.0  \n",
      "1       -132.0      0.0       0.0       0.0     719.0     0.0  \n",
      "2       -178.0      0.0       0.0       0.0    1019.0     0.0  \n",
      "3       -214.0      0.0       0.0       0.0    1022.0     0.0  \n",
      "4       -324.0      0.0       0.0       0.0    1246.0     0.0  \n",
      "...        ...      ...       ...       ...       ...     ...  \n",
      "2797     -82.0      0.0       0.0       0.0     501.0     0.0  \n",
      "2798    -118.0      0.0       0.0       0.0     540.0     0.0  \n",
      "2799    -334.0      0.0       0.0       0.0    1647.0     0.0  \n",
      "2800      -8.0      0.0       0.0       0.0      12.0     0.0  \n",
      "2801      -0.0      0.0       0.0       0.0       0.0     0.0  \n",
      "\n",
      "[2802 rows x 81 columns]\n"
     ]
    }
   ],
   "source": [
    "print(nba_df)"
   ]
  },
  {
   "cell_type": "code",
   "execution_count": 25,
   "id": "e2b7b9e4",
   "metadata": {},
   "outputs": [],
   "source": [
    "nba_df['NET_ESPN'] = nba_df['FGM_ESPN'] + nba_df['FGA_ESPN'] + nba_df['FTM_ESPN'] + nba_df[\"FTA_ESPN\"]+ nba_df['FG3M_ESPN'] + nba_df['REB_ESPN'] + nba_df['OREB_ESPN'] + nba_df['DREB_ESPN'] + nba_df['AST_ESPN'] + nba_df['STL_ESPN'] + nba_df['BLK_ESPN'] + nba_df['TOV_ESPN'] + nba_df[\"PF_ESPN\"] + nba_df[\"DD2_ESPN\"] + nba_df[\"TD3_ESPN\"] + nba_df['PTS_ESPN'] + nba_df['GP_ESPN'] + nba_df['W_ESPN']"
   ]
  },
  {
   "cell_type": "code",
   "execution_count": 26,
   "id": "f5559d3f",
   "metadata": {},
   "outputs": [
    {
     "name": "stdout",
     "output_type": "stream",
     "text": [
      "     SEASON_ID      PLAYER_NAME TEAM_ABBREVIATION   AGE    GP     W     L  \\\n",
      "0      2014-15     Aaron Gordon               ORL  19.0  47.0  14.0  33.0   \n",
      "1      2015-16     Aaron Gordon               ORL  20.0  78.0  32.0  46.0   \n",
      "2      2016-17     Aaron Gordon               ORL  21.0  80.0  29.0  51.0   \n",
      "3      2017-18     Aaron Gordon               ORL  22.0  58.0  19.0  39.0   \n",
      "4      2018-19     Aaron Gordon               ORL  23.0  78.0  40.0  38.0   \n",
      "...        ...              ...               ...   ...   ...   ...   ...   \n",
      "2797   2021-22  Ziaire Williams               MEM  20.0  62.0  41.0  21.0   \n",
      "2798   2019-20  Zion Williamson               NOP  19.0  24.0  11.0  13.0   \n",
      "2799   2020-21  Zion Williamson               NOP  20.0  61.0  29.0  32.0   \n",
      "2800   2019-20   Zylan Cheatham               NOP  24.0   4.0   2.0   2.0   \n",
      "2801   2021-22   Zylan Cheatham               UTA  26.0   1.0   0.0   1.0   \n",
      "\n",
      "      W_PCT          MIN    FGM  ...  AST_ESPN  STL_ESPN  BLK_ESPN  TOV_ESPN  \\\n",
      "0     0.298   796.925000   93.0  ...      66.0      84.0      88.0     -76.0   \n",
      "1     0.410  1863.120000  274.0  ...     256.0     236.0     220.0    -132.0   \n",
      "2     0.363  2297.965000  393.0  ...     300.0     260.0     160.0    -178.0   \n",
      "3     0.328  1909.078333  375.0  ...     272.0     236.0     180.0    -214.0   \n",
      "4     0.513  2632.533333  470.0  ...     578.0     228.0     224.0    -324.0   \n",
      "...     ...          ...    ...  ...       ...       ...       ...       ...   \n",
      "2797  0.661  1346.466667  191.0  ...     130.0     140.0      48.0     -82.0   \n",
      "2798  0.458   668.141667  210.0  ...     100.0      64.0      36.0    -118.0   \n",
      "2799  0.475  2025.890000  634.0  ...     452.0     228.0     156.0    -334.0   \n",
      "2800  0.500    51.043333    6.0  ...       6.0       4.0       4.0      -8.0   \n",
      "2801  0.000     5.183333    0.0  ...       0.0       0.0       0.0      -0.0   \n",
      "\n",
      "      PF_ESPN  DD2_ESPN  TD3_ESPN  PTS_ESPN  W_ESPN  NET_ESPN  \n",
      "0         0.0       0.0       0.0     243.0     0.0     548.0  \n",
      "1         0.0       0.0       0.0     719.0     0.0    1753.0  \n",
      "2         0.0       0.0       0.0    1019.0     0.0    1903.0  \n",
      "3         0.0       0.0       0.0    1022.0     0.0    1885.0  \n",
      "4         0.0       0.0       0.0    1246.0     0.0    2473.0  \n",
      "...       ...       ...       ...       ...     ...       ...  \n",
      "2797      0.0       0.0       0.0     501.0     0.0     888.0  \n",
      "2798      0.0       0.0       0.0     540.0     0.0     774.0  \n",
      "2799      0.0       0.0       0.0    1647.0     0.0    2671.0  \n",
      "2800      0.0       0.0       0.0      12.0     0.0      30.0  \n",
      "2801      0.0       0.0       0.0       0.0     0.0      -3.0  \n",
      "\n",
      "[2802 rows x 82 columns]\n"
     ]
    }
   ],
   "source": [
    "print(nba_df)"
   ]
  },
  {
   "cell_type": "code",
   "execution_count": 27,
   "id": "c8faff64",
   "metadata": {},
   "outputs": [],
   "source": [
    "nba_df['AVG_NET_ESPN'] = nba_df['NET_ESPN'] / 82"
   ]
  },
  {
   "cell_type": "code",
   "execution_count": 28,
   "id": "681591c5",
   "metadata": {},
   "outputs": [],
   "source": [
    "nba_df['NBA_FANTASY_PTS_RANK'] = nba_df.groupby([\"SEASON_ID\"])[\"AVG_NET_ESPN\"].rank(ascending = False)\n",
    "nba_df.rename(columns = {'NBA_FANTASY_PTS_RANK' : 'NBA_FANTASY_PTS_PER_SEASON_RANK'}, inplace = True)"
   ]
  },
  {
   "cell_type": "code",
   "execution_count": 29,
   "id": "8bf8fade",
   "metadata": {},
   "outputs": [
    {
     "name": "stdout",
     "output_type": "stream",
     "text": [
      "0       118.0\n",
      "1        75.0\n",
      "2        69.0\n",
      "3        80.0\n",
      "4        47.0\n",
      "        ...  \n",
      "2797    265.0\n",
      "2798    242.0\n",
      "2799     17.0\n",
      "2800    364.0\n",
      "2801    536.5\n",
      "Name: NBA_FANTASY_PTS_PER_SEASON_RANK, Length: 2802, dtype: float64\n"
     ]
    }
   ],
   "source": [
    "print(nba_df['NBA_FANTASY_PTS_PER_SEASON_RANK'])\n"
   ]
  },
  {
   "cell_type": "markdown",
   "id": "4ee07d1f",
   "metadata": {},
   "source": [
    "# YAHOO DF"
   ]
  },
  {
   "cell_type": "code",
   "execution_count": 30,
   "id": "6f108673",
   "metadata": {},
   "outputs": [
    {
     "name": "stdout",
     "output_type": "stream",
     "text": [
      "   PTS_YAHOO  REB_YAHOO  AST_YAHOO  STL_YAHOO  BLK_YAHOO  TOV_YAHOO\n",
      "0        1.0        1.2        1.5        3.0        3.0       -1.0\n"
     ]
    }
   ],
   "source": [
    "yahoo_df = pd.DataFrame.from_dict(yahoo_scoring)  \n",
    "print(yahoo_df)"
   ]
  },
  {
   "cell_type": "code",
   "execution_count": 31,
   "id": "e17a7190",
   "metadata": {},
   "outputs": [
    {
     "name": "stdout",
     "output_type": "stream",
     "text": [
      "   PTS_YAHOO  REB_YAHOO  AST_YAHOO  STL_YAHOO  BLK_YAHOO  TOV_YAHOO\n",
      "0        1.0        1.2        1.5        3.0        3.0       -1.0\n",
      "1        1.0        1.2        1.5        3.0        3.0       -1.0\n",
      "2        1.0        1.2        1.5        3.0        3.0       -1.0\n",
      "3        1.0        1.2        1.5        3.0        3.0       -1.0\n",
      "4        1.0        1.2        1.5        3.0        3.0       -1.0\n",
      "     PTS_YAHOO  REB_YAHOO  AST_YAHOO  STL_YAHOO  BLK_YAHOO  TOV_YAHOO\n",
      "565        1.0        1.2        1.5        3.0        3.0       -1.0\n",
      "566        1.0        1.2        1.5        3.0        3.0       -1.0\n",
      "567        1.0        1.2        1.5        3.0        3.0       -1.0\n",
      "568        1.0        1.2        1.5        3.0        3.0       -1.0\n",
      "569        1.0        1.2        1.5        3.0        3.0       -1.0\n"
     ]
    }
   ],
   "source": [
    "r_df = pd.concat([yahoo_df]*length, ignore_index=True)\n",
    "print(r_df.head())\n",
    "print(r_df.tail())"
   ]
  },
  {
   "cell_type": "code",
   "execution_count": 32,
   "id": "ede268b4",
   "metadata": {},
   "outputs": [
    {
     "name": "stdout",
     "output_type": "stream",
     "text": [
      "   PTS_YAHOO  REB_YAHOO  AST_YAHOO  STL_YAHOO  BLK_YAHOO  TOV_YAHOO\n",
      "0        1.0        1.2        1.5        3.0        3.0       -1.0\n",
      "1        1.0        1.2        1.5        3.0        3.0       -1.0\n",
      "2        1.0        1.2        1.5        3.0        3.0       -1.0\n",
      "3        1.0        1.2        1.5        3.0        3.0       -1.0\n",
      "4        1.0        1.2        1.5        3.0        3.0       -1.0\n",
      "      PTS_YAHOO  REB_YAHOO  AST_YAHOO  STL_YAHOO  BLK_YAHOO  TOV_YAHOO\n",
      "2797        1.0        1.2        1.5        3.0        3.0       -1.0\n",
      "2798        1.0        1.2        1.5        3.0        3.0       -1.0\n",
      "2799        1.0        1.2        1.5        3.0        3.0       -1.0\n",
      "2800        1.0        1.2        1.5        3.0        3.0       -1.0\n",
      "2801        1.0        1.2        1.5        3.0        3.0       -1.0\n"
     ]
    }
   ],
   "source": [
    "yahoo_scoring_df = pd.concat([yahoo_df]*length_2, ignore_index=True)\n",
    "print(yahoo_scoring_df.head())\n",
    "print(yahoo_scoring_df.tail())"
   ]
  },
  {
   "cell_type": "code",
   "execution_count": 33,
   "id": "e7a78636",
   "metadata": {},
   "outputs": [],
   "source": [
    "mydb = mysql.connector.connect(\n",
    "  host=os.environ.get(\"DB_HOST\"),\n",
    "  user=os.environ.get(\"DB_USER\"),\n",
    "  password=os.environ.get(\"DB_PASSWORD\"),\n",
    "  database=os.environ.get(\"DB_NAME\")\n",
    ")\n",
    "\n",
    "mycursor = mydb.cursor()\n",
    "\n",
    "sql = \"DROP TABLE IF EXISTS yahoo_scoring\"\n",
    "\n",
    "mycursor.execute(sql)"
   ]
  },
  {
   "cell_type": "code",
   "execution_count": 34,
   "id": "b48f4391",
   "metadata": {},
   "outputs": [],
   "source": [
    "# Credentials to database connection\n",
    "hostname=os.environ.get(\"DB_HOST\")\n",
    "dbname=os.environ.get(\"DB_NAME\")\n",
    "uname=os.environ.get(\"DB_USER\")\n",
    "pwd=os.environ.get(\"DB_PASSWORD\")\n",
    "\n",
    "# Create SQLAlchemy engine to connect to MySQL Database\n",
    "engine = create_engine(\"mysql+pymysql://{user}:{pw}@{host}/{db}\"\n",
    "\t\t\t\t.format(host=hostname, db=dbname, user=uname, pw=pwd))\n",
    "yahoo_scoring_df.to_sql('yahoo_scoring', engine, index=False)"
   ]
  },
  {
   "cell_type": "code",
   "execution_count": 35,
   "id": "4fabd1d5",
   "metadata": {},
   "outputs": [],
   "source": [
    "mydb.close()"
   ]
  },
  {
   "cell_type": "code",
   "execution_count": 36,
   "id": "e1e4229a",
   "metadata": {},
   "outputs": [],
   "source": [
    "#r_df[\"PLAYER_NAME\"] = names"
   ]
  },
  {
   "cell_type": "code",
   "execution_count": 37,
   "id": "cfa714c5",
   "metadata": {},
   "outputs": [],
   "source": [
    "#columns_list = ['PLAYER_NAME', 'PTS_YAHOO', 'REB_YAHOO', 'AST_YAHOO', 'STL_YAHOO', 'BLK_YAHOO', 'TOV_YAHOO']"
   ]
  },
  {
   "cell_type": "code",
   "execution_count": 38,
   "id": "d2986e2d",
   "metadata": {},
   "outputs": [],
   "source": [
    "#r_df = r_df.reindex(columns = columns_list)"
   ]
  },
  {
   "cell_type": "code",
   "execution_count": 39,
   "id": "f80cd86b",
   "metadata": {},
   "outputs": [],
   "source": [
    "#nba_df = pd.merge(nba_df, r_df, how = 'right', on = 'PLAYER_NAME')"
   ]
  },
  {
   "cell_type": "code",
   "execution_count": 40,
   "id": "c073d123",
   "metadata": {},
   "outputs": [],
   "source": [
    "#print(nba_df)"
   ]
  },
  {
   "cell_type": "code",
   "execution_count": 41,
   "id": "37386af0",
   "metadata": {},
   "outputs": [],
   "source": [
    "#share_columns = [\"REB\",\n",
    "                #\"AST\",\n",
    "                #\"STL\",\n",
    "                #\"BLK\",\n",
    "                #\"TOV\",\n",
    "                #\"PTS\"]"
   ]
  },
  {
   "cell_type": "code",
   "execution_count": 42,
   "id": "3de8f1db",
   "metadata": {},
   "outputs": [],
   "source": [
    "#for column in share_columns:\n",
    "    #nba_df[column +\"_YAHOO\"] = nba_df[column] * nba_df[column+\"_YAHOO\"]"
   ]
  },
  {
   "cell_type": "code",
   "execution_count": 43,
   "id": "b78270b5",
   "metadata": {},
   "outputs": [],
   "source": [
    "#print(nba_df)"
   ]
  },
  {
   "cell_type": "code",
   "execution_count": 44,
   "id": "aa7abcf4",
   "metadata": {},
   "outputs": [],
   "source": [
    "#nba_df['NET_YAHOO'] = nba_df['REB_YAHOO'] + nba_df['AST_YAHOO'] + nba_df['STL_YAHOO'] + nba_df['BLK_YAHOO'] + nba_df['TOV_YAHOO'] + nba_df['PTS_YAHOO']"
   ]
  },
  {
   "cell_type": "code",
   "execution_count": 45,
   "id": "70c37c11",
   "metadata": {},
   "outputs": [],
   "source": [
    "#print(nba_df)"
   ]
  },
  {
   "cell_type": "code",
   "execution_count": 46,
   "id": "2e914540",
   "metadata": {},
   "outputs": [],
   "source": [
    "#nba_df['AVG_NET_YAHOO'] = nba_df['NET_YAHOO'] / 82"
   ]
  },
  {
   "cell_type": "code",
   "execution_count": 47,
   "id": "f04dd69e",
   "metadata": {},
   "outputs": [],
   "source": [
    "#print(nba_df)"
   ]
  },
  {
   "cell_type": "code",
   "execution_count": 48,
   "id": "a21381fc",
   "metadata": {},
   "outputs": [],
   "source": [
    "mydb = mysql.connector.connect(\n",
    "  host=os.environ.get(\"DB_HOST\"),\n",
    "  user=os.environ.get(\"DB_USER\"),\n",
    "  password=os.environ.get(\"DB_PASSWORD\"),\n",
    "  database=os.environ.get(\"DB_NAME\")\n",
    ")\n",
    "\n",
    "mycursor = mydb.cursor()\n",
    "\n",
    "sql = \"DROP TABLE IF EXISTS nba_clean\"\n",
    "\n",
    "mycursor.execute(sql)"
   ]
  },
  {
   "cell_type": "code",
   "execution_count": 49,
   "id": "0f31ae56",
   "metadata": {},
   "outputs": [],
   "source": [
    "# Credentials to database connection\n",
    "hostname=os.environ.get(\"DB_HOST\")\n",
    "dbname=os.environ.get(\"DB_NAME\")\n",
    "uname=os.environ.get(\"DB_USER\")\n",
    "pwd=os.environ.get(\"DB_PASSWORD\")\n",
    "\n",
    "# Create SQLAlchemy engine to connect to MySQL Database\n",
    "engine = create_engine(\"mysql+pymysql://{user}:{pw}@{host}/{db}\"\n",
    "\t\t\t\t.format(host=hostname, db=dbname, user=uname, pw=pwd))\n",
    "nba_df.to_sql('nba_clean', engine, index=False)\n",
    "mydb.close()"
   ]
  },
  {
   "cell_type": "code",
   "execution_count": null,
   "id": "fa0f3f84",
   "metadata": {},
   "outputs": [],
   "source": []
  }
 ],
 "metadata": {
  "kernelspec": {
   "display_name": "Python 3 (ipykernel)",
   "language": "python",
   "name": "python3"
  },
  "language_info": {
   "codemirror_mode": {
    "name": "ipython",
    "version": 3
   },
   "file_extension": ".py",
   "mimetype": "text/x-python",
   "name": "python",
   "nbconvert_exporter": "python",
   "pygments_lexer": "ipython3",
   "version": "3.9.7"
  }
 },
 "nbformat": 4,
 "nbformat_minor": 5
}
